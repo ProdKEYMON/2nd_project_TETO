{
 "cells": [
  {
   "cell_type": "code",
   "execution_count": 3,
   "metadata": {
    "execution": {
     "iopub.execute_input": "2024-06-07T04:56:55.095177Z",
     "iopub.status.busy": "2024-06-07T04:56:55.094177Z",
     "iopub.status.idle": "2024-06-07T04:56:56.023308Z",
     "shell.execute_reply": "2024-06-07T04:56:56.023308Z",
     "shell.execute_reply.started": "2024-06-07T04:56:55.095177Z"
    },
    "id": "mAicCwyE-S8R"
   },
   "outputs": [],
   "source": [
    "import numpy as np\n",
    "import pandas as pd\n",
    "import matplotlib.pyplot as plt"
   ]
  },
  {
   "cell_type": "code",
   "execution_count": 4,
   "metadata": {
    "colab": {
     "base_uri": "https://localhost:8080/"
    },
    "execution": {
     "iopub.execute_input": "2024-06-07T04:56:56.031288Z",
     "iopub.status.busy": "2024-06-07T04:56:56.031288Z",
     "iopub.status.idle": "2024-06-07T04:56:56.657244Z",
     "shell.execute_reply": "2024-06-07T04:56:56.657244Z",
     "shell.execute_reply.started": "2024-06-07T04:56:56.031288Z"
    },
    "id": "1yvblnUr-ivG",
    "outputId": "12a660c5-aac0-4513-e1e9-124c36f26813",
    "scrolled": true
   },
   "outputs": [
    {
     "name": "stderr",
     "output_type": "stream",
     "text": [
      "C:\\Users\\prodk\\anaconda3\\envs\\mulcam\\lib\\site-packages\\_distutils_hack\\__init__.py:26: UserWarning: Setuptools is replacing distutils.\n",
      "  warnings.warn(\"Setuptools is replacing distutils.\")\n"
     ]
    },
    {
     "name": "stdout",
     "output_type": "stream",
     "text": [
      "\n",
      "INSTALLED VERSIONS\n",
      "------------------\n",
      "commit           : 0f437949513225922d851e9581723d82120684a6\n",
      "python           : 3.8.18.final.0\n",
      "python-bits      : 64\n",
      "OS               : Windows\n",
      "OS-release       : 10\n",
      "Version          : 10.0.19045\n",
      "machine          : AMD64\n",
      "processor        : Intel64 Family 6 Model 158 Stepping 13, GenuineIntel\n",
      "byteorder        : little\n",
      "LC_ALL           : None\n",
      "LANG             : None\n",
      "LOCALE           : Korean_Korea.949\n",
      "\n",
      "pandas           : 2.0.3\n",
      "numpy            : 1.24.3\n",
      "pytz             : 2024.1\n",
      "dateutil         : 2.9.0\n",
      "setuptools       : 69.5.1\n",
      "pip              : 24.0\n",
      "Cython           : 0.29.14\n",
      "pytest           : 8.2.2\n",
      "hypothesis       : None\n",
      "sphinx           : None\n",
      "blosc            : None\n",
      "feather          : None\n",
      "xlsxwriter       : None\n",
      "lxml.etree       : 5.2.2\n",
      "html5lib         : None\n",
      "pymysql          : None\n",
      "psycopg2         : None\n",
      "jinja2           : 3.1.4\n",
      "IPython          : 8.12.2\n",
      "pandas_datareader: None\n",
      "bs4              : 4.12.3\n",
      "bottleneck       : None\n",
      "brotli           : 1.1.0\n",
      "fastparquet      : None\n",
      "fsspec           : None\n",
      "gcsfs            : None\n",
      "matplotlib       : 3.7.5\n",
      "numba            : None\n",
      "numexpr          : 2.8.6\n",
      "odfpy            : None\n",
      "openpyxl         : 3.1.3\n",
      "pandas_gbq       : None\n",
      "pyarrow          : 16.1.0\n",
      "pyreadstat       : None\n",
      "pyxlsb           : None\n",
      "s3fs             : None\n",
      "scipy            : 1.10.1\n",
      "snappy           : None\n",
      "sqlalchemy       : None\n",
      "tables           : None\n",
      "tabulate         : None\n",
      "xarray           : None\n",
      "xlrd             : None\n",
      "zstandard        : None\n",
      "tzdata           : 2024.1\n",
      "qtpy             : None\n",
      "pyqt5            : None\n"
     ]
    }
   ],
   "source": [
    "# 판다스 버전 확인\n",
    "pd.show_versions()"
   ]
  },
  {
   "cell_type": "code",
   "execution_count": 5,
   "metadata": {
    "execution": {
     "iopub.execute_input": "2024-06-07T04:56:56.660238Z",
     "iopub.status.busy": "2024-06-07T04:56:56.659241Z",
     "iopub.status.idle": "2024-06-07T04:56:56.676194Z",
     "shell.execute_reply": "2024-06-07T04:56:56.673203Z",
     "shell.execute_reply.started": "2024-06-07T04:56:56.660238Z"
    },
    "id": "kC_uUfp8-lus"
   },
   "outputs": [],
   "source": [
    "import warnings\n",
    "warnings.filterwarnings(action = 'ignore')"
   ]
  },
  {
   "cell_type": "code",
   "execution_count": 41,
   "metadata": {
    "colab": {
     "base_uri": "https://localhost:8080/",
     "height": 424
    },
    "execution": {
     "iopub.execute_input": "2024-06-07T07:03:02.051534Z",
     "iopub.status.busy": "2024-06-07T07:03:02.051534Z",
     "iopub.status.idle": "2024-06-07T07:03:02.118863Z",
     "shell.execute_reply": "2024-06-07T07:03:02.116868Z",
     "shell.execute_reply.started": "2024-06-07T07:03:02.051534Z"
    },
    "id": "ICklndXf-55d",
    "outputId": "504ef764-2eb4-44d3-a9c6-3c4815c367fb",
    "scrolled": true
   },
   "outputs": [
    {
     "data": {
      "text/html": [
       "<div>\n",
       "<style scoped>\n",
       "    .dataframe tbody tr th:only-of-type {\n",
       "        vertical-align: middle;\n",
       "    }\n",
       "\n",
       "    .dataframe tbody tr th {\n",
       "        vertical-align: top;\n",
       "    }\n",
       "\n",
       "    .dataframe thead th {\n",
       "        text-align: right;\n",
       "    }\n",
       "</style>\n",
       "<table border=\"1\" class=\"dataframe\">\n",
       "  <thead>\n",
       "    <tr style=\"text-align: right;\">\n",
       "      <th></th>\n",
       "      <th>상품명</th>\n",
       "      <th>가격</th>\n",
       "      <th>평점</th>\n",
       "      <th>댓글</th>\n",
       "      <th>별점</th>\n",
       "      <th>링크</th>\n",
       "    </tr>\n",
       "  </thead>\n",
       "  <tbody>\n",
       "    <tr>\n",
       "      <th>0</th>\n",
       "      <td>SCVCN 사이클링 안경 자전거 선글라스, 남성 UV400 안경, 스포츠 MTB 야...</td>\n",
       "      <td>1,391</td>\n",
       "      <td>4.7</td>\n",
       "      <td>NaN</td>\n",
       "      <td>NaN</td>\n",
       "      <td>https://ko.aliexpress.com/item/100500592463696...</td>\n",
       "    </tr>\n",
       "    <tr>\n",
       "      <th>1</th>\n",
       "      <td>역도 스트랩 실리콘 리프팅 손목 스트랩, 미끄럼 방지, 힘 훈련, 데드리프트 크로스...</td>\n",
       "      <td>1,391</td>\n",
       "      <td>4.8</td>\n",
       "      <td>배송은 생각보다 빨리도착했네요 손목 스트랩 1쌍~레드 디자인 이쁘고 마감처리 깔끔하...</td>\n",
       "      <td>5\\n5\\n5\\n5\\n5\\n5\\n5\\n5\\n5\\n5\\n5\\n5\\n5\\n5\\n5\\n5...</td>\n",
       "      <td>https://ko.aliexpress.com/item/100500592457862...</td>\n",
       "    </tr>\n",
       "    <tr>\n",
       "      <th>2</th>\n",
       "      <td>야외 캠핑 생존 랜야드 낙하산 로프 하이킹 텐트 액세서리, 7 코어 550 파라코드...</td>\n",
       "      <td>1,125</td>\n",
       "      <td>4.7</td>\n",
       "      <td>감사합니다\\n지퍼 손잡이 매듭용으로 좋습니다\\n잘받았습니다 잘받았습니다\\n이색인줄은...</td>\n",
       "      <td>5\\n5\\n5\\n5\\n5\\n5\\n5\\n3\\n5\\n5\\n5\\n5\\n4\\n5\\n4\\n5...</td>\n",
       "      <td>https://ko.aliexpress.com/item/100500522141320...</td>\n",
       "    </tr>\n",
       "    <tr>\n",
       "      <th>3</th>\n",
       "      <td>접이식 대용량 접이식 왜건, 휴대용 유틸리티 카트, 쇼핑 비치 가든 풀 트롤리, 야...</td>\n",
       "      <td>25,785</td>\n",
       "      <td>4.7</td>\n",
       "      <td>뭔 배송하면서 바닷물에 담궈서 가져오냐? 쓰기도 전에 녹슬어서 오는 메이드인 차이나...</td>\n",
       "      <td>5\\n5\\n5\\n5\\n5\\n5\\n4\\n4\\n5\\n5\\n5\\n5\\n5\\n5\\n5\\n4...</td>\n",
       "      <td>https://ko.aliexpress.com/item/100500593200533...</td>\n",
       "    </tr>\n",
       "    <tr>\n",
       "      <th>4</th>\n",
       "      <td>BISINNA 접이식 바베큐 라운드 테이블 스토브, 휴대용 캠핑 바베큐 숯 그릴, ...</td>\n",
       "      <td>16,411</td>\n",
       "      <td>4.8</td>\n",
       "      <td>생각보다 너무괜찮은데요? 후기좋은 이유가있엇네요 불판도생각보다 두껍고튼튼한듯ㅎ 저사...</td>\n",
       "      <td>5\\n5\\n5\\n5\\n5\\n5\\n5\\n5\\n5\\n4\\n5\\n5\\n5\\n5\\n5\\n5...</td>\n",
       "      <td>https://ko.aliexpress.com/item/100500626084886...</td>\n",
       "    </tr>\n",
       "    <tr>\n",
       "      <th>...</th>\n",
       "      <td>...</td>\n",
       "      <td>...</td>\n",
       "      <td>...</td>\n",
       "      <td>...</td>\n",
       "      <td>...</td>\n",
       "      <td>...</td>\n",
       "    </tr>\n",
       "    <tr>\n",
       "      <th>286</th>\n",
       "      <td>아이폰용 마그네틱 오리지널 맥세이프 케이스, 실리콘 아크릴, 맥세이프 커버, 13,...</td>\n",
       "      <td>1,402</td>\n",
       "      <td>4.7</td>\n",
       "      <td>접착력이 약하다는말이 있어서 고민되었는데 싸서 한번사봤는데 너무 너무 짱짱하고 좋아...</td>\n",
       "      <td>5\\n5\\n5\\n5\\n5\\n5\\n5\\n5\\n5\\n5\\n5\\n5\\n4\\n5\\n5\\n4...</td>\n",
       "      <td>https://ko.aliexpress.com/item/100500603183996...</td>\n",
       "    </tr>\n",
       "    <tr>\n",
       "      <th>287</th>\n",
       "      <td>아이폰 15 샤오미 원플러스 휴대폰용 C타입 케이블, 고속 충전 USB C타입 케이...</td>\n",
       "      <td>1,402</td>\n",
       "      <td>4.8</td>\n",
       "      <td>케이블이 두껍네요. 고속충전 잘 됩니다.\\n괜찮네요 120w까지 되는지 확인은 못 ...</td>\n",
       "      <td>5\\n5\\n5\\n5\\n5\\n5\\n4\\n5\\n4\\n5\\n4\\n4\\n4\\n4\\n5\\n4...</td>\n",
       "      <td>https://ko.aliexpress.com/item/100500610048248...</td>\n",
       "    </tr>\n",
       "    <tr>\n",
       "      <th>288</th>\n",
       "      <td>Toocki 데스크탑 고속 충전 USB C 타입 충전기, 아이폰 샤오미 스마트폰 노...</td>\n",
       "      <td>36,215</td>\n",
       "      <td>4.9</td>\n",
       "      <td>택배 수령 이후 매일 사용해 보았습니다. 성능도 충분하고 발열문제도 없이 안정적으로...</td>\n",
       "      <td>5\\n5\\n5\\n5\\n5\\n5\\n5\\n5\\n5\\n5\\n5\\n5\\n5\\n5\\n5\\n5...</td>\n",
       "      <td>https://ko.aliexpress.com/item/100500587081887...</td>\n",
       "    </tr>\n",
       "    <tr>\n",
       "      <th>289</th>\n",
       "      <td>아이폰 X XR XS 맥스 11 12 프로 맥스용 OLED 스크린 LCD 디스플레이...</td>\n",
       "      <td>11,496</td>\n",
       "      <td>4.4</td>\n",
       "      <td>검은화면 뛰어보니 올레드 패널은 아닌거같은데 그거말곤 정품이랑 다 같네요 좋습니다....</td>\n",
       "      <td>5\\n5\\n4\\n5\\n5\\n4\\n5\\n5\\n4\\n5\\n3\\n5\\n4\\n5\\n5\\n5...</td>\n",
       "      <td>https://ko.aliexpress.com/item/100500485217292...</td>\n",
       "    </tr>\n",
       "    <tr>\n",
       "      <th>290</th>\n",
       "      <td>OTG USB 3.0 to C타입 어댑터, USB 암 to C타입 수 고속 충전 어...</td>\n",
       "      <td>1,455</td>\n",
       "      <td>4.8</td>\n",
       "      <td>상품이 좋습니다\\n만족합니다. 추천합니다\\n감사합니다 잘 쓰겠습니다\\n필요한제품인데...</td>\n",
       "      <td>5\\n5\\n5\\n5\\n5\\n5\\n5\\n5\\n5\\n5\\n5\\n5\\n1\\n1\\n5\\n5...</td>\n",
       "      <td>https://ko.aliexpress.com/item/100500659668838...</td>\n",
       "    </tr>\n",
       "  </tbody>\n",
       "</table>\n",
       "<p>291 rows × 6 columns</p>\n",
       "</div>"
      ],
      "text/plain": [
       "                                                   상품명      가격   평점  \\\n",
       "0    SCVCN 사이클링 안경 자전거 선글라스, 남성 UV400 안경, 스포츠 MTB 야...   1,391  4.7   \n",
       "1    역도 스트랩 실리콘 리프팅 손목 스트랩, 미끄럼 방지, 힘 훈련, 데드리프트 크로스...   1,391  4.8   \n",
       "2    야외 캠핑 생존 랜야드 낙하산 로프 하이킹 텐트 액세서리, 7 코어 550 파라코드...   1,125  4.7   \n",
       "3    접이식 대용량 접이식 왜건, 휴대용 유틸리티 카트, 쇼핑 비치 가든 풀 트롤리, 야...  25,785  4.7   \n",
       "4    BISINNA 접이식 바베큐 라운드 테이블 스토브, 휴대용 캠핑 바베큐 숯 그릴, ...  16,411  4.8   \n",
       "..                                                 ...     ...  ...   \n",
       "286  아이폰용 마그네틱 오리지널 맥세이프 케이스, 실리콘 아크릴, 맥세이프 커버, 13,...   1,402  4.7   \n",
       "287  아이폰 15 샤오미 원플러스 휴대폰용 C타입 케이블, 고속 충전 USB C타입 케이...   1,402  4.8   \n",
       "288  Toocki 데스크탑 고속 충전 USB C 타입 충전기, 아이폰 샤오미 스마트폰 노...  36,215  4.9   \n",
       "289  아이폰 X XR XS 맥스 11 12 프로 맥스용 OLED 스크린 LCD 디스플레이...  11,496  4.4   \n",
       "290  OTG USB 3.0 to C타입 어댑터, USB 암 to C타입 수 고속 충전 어...   1,455  4.8   \n",
       "\n",
       "                                                    댓글  \\\n",
       "0                                                  NaN   \n",
       "1    배송은 생각보다 빨리도착했네요 손목 스트랩 1쌍~레드 디자인 이쁘고 마감처리 깔끔하...   \n",
       "2    감사합니다\\n지퍼 손잡이 매듭용으로 좋습니다\\n잘받았습니다 잘받았습니다\\n이색인줄은...   \n",
       "3    뭔 배송하면서 바닷물에 담궈서 가져오냐? 쓰기도 전에 녹슬어서 오는 메이드인 차이나...   \n",
       "4    생각보다 너무괜찮은데요? 후기좋은 이유가있엇네요 불판도생각보다 두껍고튼튼한듯ㅎ 저사...   \n",
       "..                                                 ...   \n",
       "286  접착력이 약하다는말이 있어서 고민되었는데 싸서 한번사봤는데 너무 너무 짱짱하고 좋아...   \n",
       "287  케이블이 두껍네요. 고속충전 잘 됩니다.\\n괜찮네요 120w까지 되는지 확인은 못 ...   \n",
       "288  택배 수령 이후 매일 사용해 보았습니다. 성능도 충분하고 발열문제도 없이 안정적으로...   \n",
       "289  검은화면 뛰어보니 올레드 패널은 아닌거같은데 그거말곤 정품이랑 다 같네요 좋습니다....   \n",
       "290  상품이 좋습니다\\n만족합니다. 추천합니다\\n감사합니다 잘 쓰겠습니다\\n필요한제품인데...   \n",
       "\n",
       "                                                    별점  \\\n",
       "0                                                  NaN   \n",
       "1    5\\n5\\n5\\n5\\n5\\n5\\n5\\n5\\n5\\n5\\n5\\n5\\n5\\n5\\n5\\n5...   \n",
       "2    5\\n5\\n5\\n5\\n5\\n5\\n5\\n3\\n5\\n5\\n5\\n5\\n4\\n5\\n4\\n5...   \n",
       "3    5\\n5\\n5\\n5\\n5\\n5\\n4\\n4\\n5\\n5\\n5\\n5\\n5\\n5\\n5\\n4...   \n",
       "4    5\\n5\\n5\\n5\\n5\\n5\\n5\\n5\\n5\\n4\\n5\\n5\\n5\\n5\\n5\\n5...   \n",
       "..                                                 ...   \n",
       "286  5\\n5\\n5\\n5\\n5\\n5\\n5\\n5\\n5\\n5\\n5\\n5\\n4\\n5\\n5\\n4...   \n",
       "287  5\\n5\\n5\\n5\\n5\\n5\\n4\\n5\\n4\\n5\\n4\\n4\\n4\\n4\\n5\\n4...   \n",
       "288  5\\n5\\n5\\n5\\n5\\n5\\n5\\n5\\n5\\n5\\n5\\n5\\n5\\n5\\n5\\n5...   \n",
       "289  5\\n5\\n4\\n5\\n5\\n4\\n5\\n5\\n4\\n5\\n3\\n5\\n4\\n5\\n5\\n5...   \n",
       "290  5\\n5\\n5\\n5\\n5\\n5\\n5\\n5\\n5\\n5\\n5\\n5\\n1\\n1\\n5\\n5...   \n",
       "\n",
       "                                                    링크  \n",
       "0    https://ko.aliexpress.com/item/100500592463696...  \n",
       "1    https://ko.aliexpress.com/item/100500592457862...  \n",
       "2    https://ko.aliexpress.com/item/100500522141320...  \n",
       "3    https://ko.aliexpress.com/item/100500593200533...  \n",
       "4    https://ko.aliexpress.com/item/100500626084886...  \n",
       "..                                                 ...  \n",
       "286  https://ko.aliexpress.com/item/100500603183996...  \n",
       "287  https://ko.aliexpress.com/item/100500610048248...  \n",
       "288  https://ko.aliexpress.com/item/100500587081887...  \n",
       "289  https://ko.aliexpress.com/item/100500485217292...  \n",
       "290  https://ko.aliexpress.com/item/100500659668838...  \n",
       "\n",
       "[291 rows x 6 columns]"
      ]
     },
     "execution_count": 41,
     "metadata": {},
     "output_type": "execute_result"
    }
   ],
   "source": [
    "pd.read_csv('./datas/알리_베스트셀러_리뷰.csv',\n",
    "            encoding='utf-8', sep=',') # , : 쉼표기준(구분자)"
   ]
  },
  {
   "cell_type": "code",
   "execution_count": 42,
   "metadata": {
    "colab": {
     "base_uri": "https://localhost:8080/",
     "height": 143
    },
    "execution": {
     "iopub.execute_input": "2024-06-07T07:03:11.090064Z",
     "iopub.status.busy": "2024-06-07T07:03:11.089067Z",
     "iopub.status.idle": "2024-06-07T07:03:11.136940Z",
     "shell.execute_reply": "2024-06-07T07:03:11.135942Z",
     "shell.execute_reply.started": "2024-06-07T07:03:11.090064Z"
    },
    "id": "ghphQ0eQ_ldx",
    "outputId": "18215609-7ddd-4998-821d-a8dc671e060d",
    "scrolled": true
   },
   "outputs": [
    {
     "data": {
      "text/html": [
       "<div>\n",
       "<style scoped>\n",
       "    .dataframe tbody tr th:only-of-type {\n",
       "        vertical-align: middle;\n",
       "    }\n",
       "\n",
       "    .dataframe tbody tr th {\n",
       "        vertical-align: top;\n",
       "    }\n",
       "\n",
       "    .dataframe thead th {\n",
       "        text-align: right;\n",
       "    }\n",
       "</style>\n",
       "<table border=\"1\" class=\"dataframe\">\n",
       "  <thead>\n",
       "    <tr style=\"text-align: right;\">\n",
       "      <th></th>\n",
       "      <th>상품명</th>\n",
       "      <th>가격</th>\n",
       "      <th>평점</th>\n",
       "      <th>댓글</th>\n",
       "      <th>별점</th>\n",
       "      <th>링크</th>\n",
       "    </tr>\n",
       "  </thead>\n",
       "  <tbody>\n",
       "    <tr>\n",
       "      <th>0</th>\n",
       "      <td>SCVCN 사이클링 안경 자전거 선글라스, 남성 UV400 안경, 스포츠 MTB 야...</td>\n",
       "      <td>1,391</td>\n",
       "      <td>4.7</td>\n",
       "      <td>NaN</td>\n",
       "      <td>NaN</td>\n",
       "      <td>https://ko.aliexpress.com/item/100500592463696...</td>\n",
       "    </tr>\n",
       "    <tr>\n",
       "      <th>1</th>\n",
       "      <td>역도 스트랩 실리콘 리프팅 손목 스트랩, 미끄럼 방지, 힘 훈련, 데드리프트 크로스...</td>\n",
       "      <td>1,391</td>\n",
       "      <td>4.8</td>\n",
       "      <td>배송은 생각보다 빨리도착했네요 손목 스트랩 1쌍~레드 디자인 이쁘고 마감처리 깔끔하...</td>\n",
       "      <td>5\\n5\\n5\\n5\\n5\\n5\\n5\\n5\\n5\\n5\\n5\\n5\\n5\\n5\\n5\\n5...</td>\n",
       "      <td>https://ko.aliexpress.com/item/100500592457862...</td>\n",
       "    </tr>\n",
       "    <tr>\n",
       "      <th>2</th>\n",
       "      <td>야외 캠핑 생존 랜야드 낙하산 로프 하이킹 텐트 액세서리, 7 코어 550 파라코드...</td>\n",
       "      <td>1,125</td>\n",
       "      <td>4.7</td>\n",
       "      <td>감사합니다\\n지퍼 손잡이 매듭용으로 좋습니다\\n잘받았습니다 잘받았습니다\\n이색인줄은...</td>\n",
       "      <td>5\\n5\\n5\\n5\\n5\\n5\\n5\\n3\\n5\\n5\\n5\\n5\\n4\\n5\\n4\\n5...</td>\n",
       "      <td>https://ko.aliexpress.com/item/100500522141320...</td>\n",
       "    </tr>\n",
       "  </tbody>\n",
       "</table>\n",
       "</div>"
      ],
      "text/plain": [
       "                                                 상품명     가격   평점  \\\n",
       "0  SCVCN 사이클링 안경 자전거 선글라스, 남성 UV400 안경, 스포츠 MTB 야...  1,391  4.7   \n",
       "1  역도 스트랩 실리콘 리프팅 손목 스트랩, 미끄럼 방지, 힘 훈련, 데드리프트 크로스...  1,391  4.8   \n",
       "2  야외 캠핑 생존 랜야드 낙하산 로프 하이킹 텐트 액세서리, 7 코어 550 파라코드...  1,125  4.7   \n",
       "\n",
       "                                                  댓글  \\\n",
       "0                                                NaN   \n",
       "1  배송은 생각보다 빨리도착했네요 손목 스트랩 1쌍~레드 디자인 이쁘고 마감처리 깔끔하...   \n",
       "2  감사합니다\\n지퍼 손잡이 매듭용으로 좋습니다\\n잘받았습니다 잘받았습니다\\n이색인줄은...   \n",
       "\n",
       "                                                  별점  \\\n",
       "0                                                NaN   \n",
       "1  5\\n5\\n5\\n5\\n5\\n5\\n5\\n5\\n5\\n5\\n5\\n5\\n5\\n5\\n5\\n5...   \n",
       "2  5\\n5\\n5\\n5\\n5\\n5\\n5\\n3\\n5\\n5\\n5\\n5\\n4\\n5\\n4\\n5...   \n",
       "\n",
       "                                                  링크  \n",
       "0  https://ko.aliexpress.com/item/100500592463696...  \n",
       "1  https://ko.aliexpress.com/item/100500592457862...  \n",
       "2  https://ko.aliexpress.com/item/100500522141320...  "
      ]
     },
     "execution_count": 42,
     "metadata": {},
     "output_type": "execute_result"
    }
   ],
   "source": [
    "train = pd.read_csv('./datas/알리_베스트셀러_리뷰.csv',\n",
    "            encoding='utf-8', sep=',')\n",
    "train_df = train.copy()\n",
    "train_df.head(3)"
   ]
  },
  {
   "cell_type": "code",
   "execution_count": 43,
   "metadata": {
    "colab": {
     "base_uri": "https://localhost:8080/"
    },
    "execution": {
     "iopub.execute_input": "2024-06-07T07:03:14.887561Z",
     "iopub.status.busy": "2024-06-07T07:03:14.887561Z",
     "iopub.status.idle": "2024-06-07T07:03:14.899517Z",
     "shell.execute_reply": "2024-06-07T07:03:14.898515Z",
     "shell.execute_reply.started": "2024-06-07T07:03:14.887561Z"
    },
    "id": "NkYkNDQO_0mf",
    "outputId": "8c471711-c9fb-405d-d313-20752d7c7e67"
   },
   "outputs": [
    {
     "data": {
      "text/plain": [
       "(291, 6)"
      ]
     },
     "execution_count": 43,
     "metadata": {},
     "output_type": "execute_result"
    }
   ],
   "source": [
    "train_df.shape"
   ]
  },
  {
   "cell_type": "code",
   "execution_count": 44,
   "metadata": {
    "colab": {
     "base_uri": "https://localhost:8080/"
    },
    "execution": {
     "iopub.execute_input": "2024-06-07T07:03:16.488570Z",
     "iopub.status.busy": "2024-06-07T07:03:16.488570Z",
     "iopub.status.idle": "2024-06-07T07:03:16.511509Z",
     "shell.execute_reply": "2024-06-07T07:03:16.511509Z",
     "shell.execute_reply.started": "2024-06-07T07:03:16.488570Z"
    },
    "id": "8oZaoQmW_9QD",
    "outputId": "19aef1cf-8b22-494b-86a6-7bf559967587"
   },
   "outputs": [
    {
     "name": "stdout",
     "output_type": "stream",
     "text": [
      "<class 'pandas.core.frame.DataFrame'>\n",
      "RangeIndex: 291 entries, 0 to 290\n",
      "Data columns (total 6 columns):\n",
      " #   Column  Non-Null Count  Dtype  \n",
      "---  ------  --------------  -----  \n",
      " 0   상품명     291 non-null    object \n",
      " 1   가격      291 non-null    object \n",
      " 2   평점      291 non-null    float64\n",
      " 3   댓글      270 non-null    object \n",
      " 4   별점      286 non-null    object \n",
      " 5   링크      291 non-null    object \n",
      "dtypes: float64(1), object(5)\n",
      "memory usage: 13.8+ KB\n"
     ]
    }
   ],
   "source": [
    "train_df.info()"
   ]
  },
  {
   "cell_type": "code",
   "execution_count": 10,
   "metadata": {
    "colab": {
     "base_uri": "https://localhost:8080/",
     "height": 424
    },
    "execution": {
     "iopub.execute_input": "2024-06-07T04:57:00.262470Z",
     "iopub.status.busy": "2024-06-07T04:57:00.262470Z",
     "iopub.status.idle": "2024-06-07T04:57:00.280426Z",
     "shell.execute_reply": "2024-06-07T04:57:00.280426Z",
     "shell.execute_reply.started": "2024-06-07T04:57:00.262470Z"
    },
    "id": "4yIMV8bqAB4g",
    "outputId": "d5cf7c40-46db-46e8-8b4c-4e745caaed20",
    "scrolled": true
   },
   "outputs": [
    {
     "data": {
      "text/html": [
       "<div>\n",
       "<style scoped>\n",
       "    .dataframe tbody tr th:only-of-type {\n",
       "        vertical-align: middle;\n",
       "    }\n",
       "\n",
       "    .dataframe tbody tr th {\n",
       "        vertical-align: top;\n",
       "    }\n",
       "\n",
       "    .dataframe thead th {\n",
       "        text-align: right;\n",
       "    }\n",
       "</style>\n",
       "<table border=\"1\" class=\"dataframe\">\n",
       "  <thead>\n",
       "    <tr style=\"text-align: right;\">\n",
       "      <th></th>\n",
       "      <th>상품명</th>\n",
       "      <th>가격</th>\n",
       "      <th>평점</th>\n",
       "      <th>댓글</th>\n",
       "      <th>별점</th>\n",
       "      <th>링크</th>\n",
       "    </tr>\n",
       "  </thead>\n",
       "  <tbody>\n",
       "    <tr>\n",
       "      <th>1</th>\n",
       "      <td>역도 스트랩 실리콘 리프팅 손목 스트랩, 미끄럼 방지, 힘 훈련, 데드리프트 크로스...</td>\n",
       "      <td>1,391</td>\n",
       "      <td>4.8</td>\n",
       "      <td>배송은 생각보다 빨리도착했네요 손목 스트랩 1쌍~레드 디자인 이쁘고 마감처리 깔끔하...</td>\n",
       "      <td>5\\n5\\n5\\n5\\n5\\n5\\n5\\n5\\n5\\n5\\n5\\n5\\n5\\n5\\n5\\n5...</td>\n",
       "      <td>https://ko.aliexpress.com/item/100500592457862...</td>\n",
       "    </tr>\n",
       "    <tr>\n",
       "      <th>2</th>\n",
       "      <td>야외 캠핑 생존 랜야드 낙하산 로프 하이킹 텐트 액세서리, 7 코어 550 파라코드...</td>\n",
       "      <td>1,125</td>\n",
       "      <td>4.7</td>\n",
       "      <td>감사합니다\\n지퍼 손잡이 매듭용으로 좋습니다\\n잘받았습니다 잘받았습니다\\n이색인줄은...</td>\n",
       "      <td>5\\n5\\n5\\n5\\n5\\n5\\n5\\n3\\n5\\n5\\n5\\n5\\n4\\n5\\n4\\n5...</td>\n",
       "      <td>https://ko.aliexpress.com/item/100500522141320...</td>\n",
       "    </tr>\n",
       "    <tr>\n",
       "      <th>3</th>\n",
       "      <td>접이식 대용량 접이식 왜건, 휴대용 유틸리티 카트, 쇼핑 비치 가든 풀 트롤리, 야...</td>\n",
       "      <td>25,785</td>\n",
       "      <td>4.7</td>\n",
       "      <td>뭔 배송하면서 바닷물에 담궈서 가져오냐? 쓰기도 전에 녹슬어서 오는 메이드인 차이나...</td>\n",
       "      <td>5\\n5\\n5\\n5\\n5\\n5\\n4\\n4\\n5\\n5\\n5\\n5\\n5\\n5\\n5\\n4...</td>\n",
       "      <td>https://ko.aliexpress.com/item/100500593200533...</td>\n",
       "    </tr>\n",
       "    <tr>\n",
       "      <th>4</th>\n",
       "      <td>BISINNA 접이식 바베큐 라운드 테이블 스토브, 휴대용 캠핑 바베큐 숯 그릴, ...</td>\n",
       "      <td>16,411</td>\n",
       "      <td>4.8</td>\n",
       "      <td>생각보다 너무괜찮은데요? 후기좋은 이유가있엇네요 불판도생각보다 두껍고튼튼한듯ㅎ 저사...</td>\n",
       "      <td>5\\n5\\n5\\n5\\n5\\n5\\n5\\n5\\n5\\n4\\n5\\n5\\n5\\n5\\n5\\n5...</td>\n",
       "      <td>https://ko.aliexpress.com/item/100500626084886...</td>\n",
       "    </tr>\n",
       "    <tr>\n",
       "      <th>5</th>\n",
       "      <td>튼튼한 라텍스 저항 밴드, 탄성 운동 강도 풀업 보조 밴드, 필라테스 체육관 피트니...</td>\n",
       "      <td>1,391</td>\n",
       "      <td>4.7</td>\n",
       "      <td>잘받았습니다\\n좋아요 가격대비 만족합니다\\n진짜 빨리받앗어요. 일주일?? 턱걸이하는...</td>\n",
       "      <td>5\\n5\\n5\\n5\\n5\\n5\\n5\\n5\\n5\\n4\\n5\\n4\\n4\\n4\\n4\\n5...</td>\n",
       "      <td>https://ko.aliexpress.com/item/100500545860164...</td>\n",
       "    </tr>\n",
       "    <tr>\n",
       "      <th>...</th>\n",
       "      <td>...</td>\n",
       "      <td>...</td>\n",
       "      <td>...</td>\n",
       "      <td>...</td>\n",
       "      <td>...</td>\n",
       "      <td>...</td>\n",
       "    </tr>\n",
       "    <tr>\n",
       "      <th>286</th>\n",
       "      <td>아이폰용 마그네틱 오리지널 맥세이프 케이스, 실리콘 아크릴, 맥세이프 커버, 13,...</td>\n",
       "      <td>1,402</td>\n",
       "      <td>4.7</td>\n",
       "      <td>접착력이 약하다는말이 있어서 고민되었는데 싸서 한번사봤는데 너무 너무 짱짱하고 좋아...</td>\n",
       "      <td>5\\n5\\n5\\n5\\n5\\n5\\n5\\n5\\n5\\n5\\n5\\n5\\n4\\n5\\n5\\n4...</td>\n",
       "      <td>https://ko.aliexpress.com/item/100500603183996...</td>\n",
       "    </tr>\n",
       "    <tr>\n",
       "      <th>287</th>\n",
       "      <td>아이폰 15 샤오미 원플러스 휴대폰용 C타입 케이블, 고속 충전 USB C타입 케이...</td>\n",
       "      <td>1,402</td>\n",
       "      <td>4.8</td>\n",
       "      <td>케이블이 두껍네요. 고속충전 잘 됩니다.\\n괜찮네요 120w까지 되는지 확인은 못 ...</td>\n",
       "      <td>5\\n5\\n5\\n5\\n5\\n5\\n4\\n5\\n4\\n5\\n4\\n4\\n4\\n4\\n5\\n4...</td>\n",
       "      <td>https://ko.aliexpress.com/item/100500610048248...</td>\n",
       "    </tr>\n",
       "    <tr>\n",
       "      <th>288</th>\n",
       "      <td>Toocki 데스크탑 고속 충전 USB C 타입 충전기, 아이폰 샤오미 스마트폰 노...</td>\n",
       "      <td>36,215</td>\n",
       "      <td>4.9</td>\n",
       "      <td>택배 수령 이후 매일 사용해 보았습니다. 성능도 충분하고 발열문제도 없이 안정적으로...</td>\n",
       "      <td>5\\n5\\n5\\n5\\n5\\n5\\n5\\n5\\n5\\n5\\n5\\n5\\n5\\n5\\n5\\n5...</td>\n",
       "      <td>https://ko.aliexpress.com/item/100500587081887...</td>\n",
       "    </tr>\n",
       "    <tr>\n",
       "      <th>289</th>\n",
       "      <td>아이폰 X XR XS 맥스 11 12 프로 맥스용 OLED 스크린 LCD 디스플레이...</td>\n",
       "      <td>11,496</td>\n",
       "      <td>4.4</td>\n",
       "      <td>검은화면 뛰어보니 올레드 패널은 아닌거같은데 그거말곤 정품이랑 다 같네요 좋습니다....</td>\n",
       "      <td>5\\n5\\n4\\n5\\n5\\n4\\n5\\n5\\n4\\n5\\n3\\n5\\n4\\n5\\n5\\n5...</td>\n",
       "      <td>https://ko.aliexpress.com/item/100500485217292...</td>\n",
       "    </tr>\n",
       "    <tr>\n",
       "      <th>290</th>\n",
       "      <td>OTG USB 3.0 to C타입 어댑터, USB 암 to C타입 수 고속 충전 어...</td>\n",
       "      <td>1,455</td>\n",
       "      <td>4.8</td>\n",
       "      <td>상품이 좋습니다\\n만족합니다. 추천합니다\\n감사합니다 잘 쓰겠습니다\\n필요한제품인데...</td>\n",
       "      <td>5\\n5\\n5\\n5\\n5\\n5\\n5\\n5\\n5\\n5\\n5\\n5\\n1\\n1\\n5\\n5...</td>\n",
       "      <td>https://ko.aliexpress.com/item/100500659668838...</td>\n",
       "    </tr>\n",
       "  </tbody>\n",
       "</table>\n",
       "<p>270 rows × 6 columns</p>\n",
       "</div>"
      ],
      "text/plain": [
       "                                                   상품명      가격   평점  \\\n",
       "1    역도 스트랩 실리콘 리프팅 손목 스트랩, 미끄럼 방지, 힘 훈련, 데드리프트 크로스...   1,391  4.8   \n",
       "2    야외 캠핑 생존 랜야드 낙하산 로프 하이킹 텐트 액세서리, 7 코어 550 파라코드...   1,125  4.7   \n",
       "3    접이식 대용량 접이식 왜건, 휴대용 유틸리티 카트, 쇼핑 비치 가든 풀 트롤리, 야...  25,785  4.7   \n",
       "4    BISINNA 접이식 바베큐 라운드 테이블 스토브, 휴대용 캠핑 바베큐 숯 그릴, ...  16,411  4.8   \n",
       "5    튼튼한 라텍스 저항 밴드, 탄성 운동 강도 풀업 보조 밴드, 필라테스 체육관 피트니...   1,391  4.7   \n",
       "..                                                 ...     ...  ...   \n",
       "286  아이폰용 마그네틱 오리지널 맥세이프 케이스, 실리콘 아크릴, 맥세이프 커버, 13,...   1,402  4.7   \n",
       "287  아이폰 15 샤오미 원플러스 휴대폰용 C타입 케이블, 고속 충전 USB C타입 케이...   1,402  4.8   \n",
       "288  Toocki 데스크탑 고속 충전 USB C 타입 충전기, 아이폰 샤오미 스마트폰 노...  36,215  4.9   \n",
       "289  아이폰 X XR XS 맥스 11 12 프로 맥스용 OLED 스크린 LCD 디스플레이...  11,496  4.4   \n",
       "290  OTG USB 3.0 to C타입 어댑터, USB 암 to C타입 수 고속 충전 어...   1,455  4.8   \n",
       "\n",
       "                                                    댓글  \\\n",
       "1    배송은 생각보다 빨리도착했네요 손목 스트랩 1쌍~레드 디자인 이쁘고 마감처리 깔끔하...   \n",
       "2    감사합니다\\n지퍼 손잡이 매듭용으로 좋습니다\\n잘받았습니다 잘받았습니다\\n이색인줄은...   \n",
       "3    뭔 배송하면서 바닷물에 담궈서 가져오냐? 쓰기도 전에 녹슬어서 오는 메이드인 차이나...   \n",
       "4    생각보다 너무괜찮은데요? 후기좋은 이유가있엇네요 불판도생각보다 두껍고튼튼한듯ㅎ 저사...   \n",
       "5    잘받았습니다\\n좋아요 가격대비 만족합니다\\n진짜 빨리받앗어요. 일주일?? 턱걸이하는...   \n",
       "..                                                 ...   \n",
       "286  접착력이 약하다는말이 있어서 고민되었는데 싸서 한번사봤는데 너무 너무 짱짱하고 좋아...   \n",
       "287  케이블이 두껍네요. 고속충전 잘 됩니다.\\n괜찮네요 120w까지 되는지 확인은 못 ...   \n",
       "288  택배 수령 이후 매일 사용해 보았습니다. 성능도 충분하고 발열문제도 없이 안정적으로...   \n",
       "289  검은화면 뛰어보니 올레드 패널은 아닌거같은데 그거말곤 정품이랑 다 같네요 좋습니다....   \n",
       "290  상품이 좋습니다\\n만족합니다. 추천합니다\\n감사합니다 잘 쓰겠습니다\\n필요한제품인데...   \n",
       "\n",
       "                                                    별점  \\\n",
       "1    5\\n5\\n5\\n5\\n5\\n5\\n5\\n5\\n5\\n5\\n5\\n5\\n5\\n5\\n5\\n5...   \n",
       "2    5\\n5\\n5\\n5\\n5\\n5\\n5\\n3\\n5\\n5\\n5\\n5\\n4\\n5\\n4\\n5...   \n",
       "3    5\\n5\\n5\\n5\\n5\\n5\\n4\\n4\\n5\\n5\\n5\\n5\\n5\\n5\\n5\\n4...   \n",
       "4    5\\n5\\n5\\n5\\n5\\n5\\n5\\n5\\n5\\n4\\n5\\n5\\n5\\n5\\n5\\n5...   \n",
       "5    5\\n5\\n5\\n5\\n5\\n5\\n5\\n5\\n5\\n4\\n5\\n4\\n4\\n4\\n4\\n5...   \n",
       "..                                                 ...   \n",
       "286  5\\n5\\n5\\n5\\n5\\n5\\n5\\n5\\n5\\n5\\n5\\n5\\n4\\n5\\n5\\n4...   \n",
       "287  5\\n5\\n5\\n5\\n5\\n5\\n4\\n5\\n4\\n5\\n4\\n4\\n4\\n4\\n5\\n4...   \n",
       "288  5\\n5\\n5\\n5\\n5\\n5\\n5\\n5\\n5\\n5\\n5\\n5\\n5\\n5\\n5\\n5...   \n",
       "289  5\\n5\\n4\\n5\\n5\\n4\\n5\\n5\\n4\\n5\\n3\\n5\\n4\\n5\\n5\\n5...   \n",
       "290  5\\n5\\n5\\n5\\n5\\n5\\n5\\n5\\n5\\n5\\n5\\n5\\n1\\n1\\n5\\n5...   \n",
       "\n",
       "                                                    링크  \n",
       "1    https://ko.aliexpress.com/item/100500592457862...  \n",
       "2    https://ko.aliexpress.com/item/100500522141320...  \n",
       "3    https://ko.aliexpress.com/item/100500593200533...  \n",
       "4    https://ko.aliexpress.com/item/100500626084886...  \n",
       "5    https://ko.aliexpress.com/item/100500545860164...  \n",
       "..                                                 ...  \n",
       "286  https://ko.aliexpress.com/item/100500603183996...  \n",
       "287  https://ko.aliexpress.com/item/100500610048248...  \n",
       "288  https://ko.aliexpress.com/item/100500587081887...  \n",
       "289  https://ko.aliexpress.com/item/100500485217292...  \n",
       "290  https://ko.aliexpress.com/item/100500659668838...  \n",
       "\n",
       "[270 rows x 6 columns]"
      ]
     },
     "execution_count": 10,
     "metadata": {},
     "output_type": "execute_result"
    }
   ],
   "source": [
    "condition = train_df['댓글'].notnull()\n",
    "# null 값 없는 데이터 추출\n",
    "\n",
    "train_df[condition]"
   ]
  },
  {
   "cell_type": "code",
   "execution_count": 11,
   "metadata": {
    "colab": {
     "base_uri": "https://localhost:8080/",
     "height": 143
    },
    "execution": {
     "iopub.execute_input": "2024-06-07T04:57:00.727430Z",
     "iopub.status.busy": "2024-06-07T04:57:00.726436Z",
     "iopub.status.idle": "2024-06-07T04:57:00.748376Z",
     "shell.execute_reply": "2024-06-07T04:57:00.747378Z",
     "shell.execute_reply.started": "2024-06-07T04:57:00.727430Z"
    },
    "id": "FJVJbbeMALUx",
    "outputId": "ea9e9f79-b506-4f13-f245-74cc639c6523",
    "scrolled": true
   },
   "outputs": [
    {
     "data": {
      "text/html": [
       "<div>\n",
       "<style scoped>\n",
       "    .dataframe tbody tr th:only-of-type {\n",
       "        vertical-align: middle;\n",
       "    }\n",
       "\n",
       "    .dataframe tbody tr th {\n",
       "        vertical-align: top;\n",
       "    }\n",
       "\n",
       "    .dataframe thead th {\n",
       "        text-align: right;\n",
       "    }\n",
       "</style>\n",
       "<table border=\"1\" class=\"dataframe\">\n",
       "  <thead>\n",
       "    <tr style=\"text-align: right;\">\n",
       "      <th></th>\n",
       "      <th>상품명</th>\n",
       "      <th>가격</th>\n",
       "      <th>평점</th>\n",
       "      <th>댓글</th>\n",
       "      <th>별점</th>\n",
       "      <th>링크</th>\n",
       "    </tr>\n",
       "  </thead>\n",
       "  <tbody>\n",
       "    <tr>\n",
       "      <th>1</th>\n",
       "      <td>역도 스트랩 실리콘 리프팅 손목 스트랩, 미끄럼 방지, 힘 훈련, 데드리프트 크로스...</td>\n",
       "      <td>1,391</td>\n",
       "      <td>4.8</td>\n",
       "      <td>배송은 생각보다 빨리도착했네요 손목 스트랩 1쌍~레드 디자인 이쁘고 마감처리 깔끔하...</td>\n",
       "      <td>5\\n5\\n5\\n5\\n5\\n5\\n5\\n5\\n5\\n5\\n5\\n5\\n5\\n5\\n5\\n5...</td>\n",
       "      <td>https://ko.aliexpress.com/item/100500592457862...</td>\n",
       "    </tr>\n",
       "    <tr>\n",
       "      <th>2</th>\n",
       "      <td>야외 캠핑 생존 랜야드 낙하산 로프 하이킹 텐트 액세서리, 7 코어 550 파라코드...</td>\n",
       "      <td>1,125</td>\n",
       "      <td>4.7</td>\n",
       "      <td>감사합니다\\n지퍼 손잡이 매듭용으로 좋습니다\\n잘받았습니다 잘받았습니다\\n이색인줄은...</td>\n",
       "      <td>5\\n5\\n5\\n5\\n5\\n5\\n5\\n3\\n5\\n5\\n5\\n5\\n4\\n5\\n4\\n5...</td>\n",
       "      <td>https://ko.aliexpress.com/item/100500522141320...</td>\n",
       "    </tr>\n",
       "    <tr>\n",
       "      <th>3</th>\n",
       "      <td>접이식 대용량 접이식 왜건, 휴대용 유틸리티 카트, 쇼핑 비치 가든 풀 트롤리, 야...</td>\n",
       "      <td>25,785</td>\n",
       "      <td>4.7</td>\n",
       "      <td>뭔 배송하면서 바닷물에 담궈서 가져오냐? 쓰기도 전에 녹슬어서 오는 메이드인 차이나...</td>\n",
       "      <td>5\\n5\\n5\\n5\\n5\\n5\\n4\\n4\\n5\\n5\\n5\\n5\\n5\\n5\\n5\\n4...</td>\n",
       "      <td>https://ko.aliexpress.com/item/100500593200533...</td>\n",
       "    </tr>\n",
       "  </tbody>\n",
       "</table>\n",
       "</div>"
      ],
      "text/plain": [
       "                                                 상품명      가격   평점  \\\n",
       "1  역도 스트랩 실리콘 리프팅 손목 스트랩, 미끄럼 방지, 힘 훈련, 데드리프트 크로스...   1,391  4.8   \n",
       "2  야외 캠핑 생존 랜야드 낙하산 로프 하이킹 텐트 액세서리, 7 코어 550 파라코드...   1,125  4.7   \n",
       "3  접이식 대용량 접이식 왜건, 휴대용 유틸리티 카트, 쇼핑 비치 가든 풀 트롤리, 야...  25,785  4.7   \n",
       "\n",
       "                                                  댓글  \\\n",
       "1  배송은 생각보다 빨리도착했네요 손목 스트랩 1쌍~레드 디자인 이쁘고 마감처리 깔끔하...   \n",
       "2  감사합니다\\n지퍼 손잡이 매듭용으로 좋습니다\\n잘받았습니다 잘받았습니다\\n이색인줄은...   \n",
       "3  뭔 배송하면서 바닷물에 담궈서 가져오냐? 쓰기도 전에 녹슬어서 오는 메이드인 차이나...   \n",
       "\n",
       "                                                  별점  \\\n",
       "1  5\\n5\\n5\\n5\\n5\\n5\\n5\\n5\\n5\\n5\\n5\\n5\\n5\\n5\\n5\\n5...   \n",
       "2  5\\n5\\n5\\n5\\n5\\n5\\n5\\n3\\n5\\n5\\n5\\n5\\n4\\n5\\n4\\n5...   \n",
       "3  5\\n5\\n5\\n5\\n5\\n5\\n4\\n4\\n5\\n5\\n5\\n5\\n5\\n5\\n5\\n4...   \n",
       "\n",
       "                                                  링크  \n",
       "1  https://ko.aliexpress.com/item/100500592457862...  \n",
       "2  https://ko.aliexpress.com/item/100500522141320...  \n",
       "3  https://ko.aliexpress.com/item/100500593200533...  "
      ]
     },
     "execution_count": 11,
     "metadata": {},
     "output_type": "execute_result"
    }
   ],
   "source": [
    "train_df = train_df[condition]\n",
    "train_df.head(3)"
   ]
  },
  {
   "cell_type": "code",
   "execution_count": 12,
   "metadata": {
    "colab": {
     "base_uri": "https://localhost:8080/"
    },
    "execution": {
     "iopub.execute_input": "2024-06-07T04:57:01.247145Z",
     "iopub.status.busy": "2024-06-07T04:57:01.247145Z",
     "iopub.status.idle": "2024-06-07T04:57:01.259123Z",
     "shell.execute_reply": "2024-06-07T04:57:01.258116Z",
     "shell.execute_reply.started": "2024-06-07T04:57:01.247145Z"
    },
    "id": "Q75ebm4KATpQ",
    "outputId": "170dddda-a717-4357-95ae-286ef1774e87"
   },
   "outputs": [
    {
     "name": "stdout",
     "output_type": "stream",
     "text": [
      "<class 'pandas.core.frame.DataFrame'>\n",
      "Index: 270 entries, 1 to 290\n",
      "Data columns (total 6 columns):\n",
      " #   Column  Non-Null Count  Dtype  \n",
      "---  ------  --------------  -----  \n",
      " 0   상품명     270 non-null    object \n",
      " 1   가격      270 non-null    object \n",
      " 2   평점      270 non-null    float64\n",
      " 3   댓글      270 non-null    object \n",
      " 4   별점      270 non-null    object \n",
      " 5   링크      270 non-null    object \n",
      "dtypes: float64(1), object(5)\n",
      "memory usage: 14.8+ KB\n"
     ]
    }
   ],
   "source": [
    "train_df.info()"
   ]
  },
  {
   "cell_type": "code",
   "execution_count": 13,
   "metadata": {
    "colab": {
     "base_uri": "https://localhost:8080/"
    },
    "execution": {
     "iopub.execute_input": "2024-06-07T04:57:02.349919Z",
     "iopub.status.busy": "2024-06-07T04:57:02.349919Z",
     "iopub.status.idle": "2024-06-07T04:57:02.364879Z",
     "shell.execute_reply": "2024-06-07T04:57:02.363882Z",
     "shell.execute_reply.started": "2024-06-07T04:57:02.349919Z"
    },
    "id": "-bjfPP0XAWW5",
    "outputId": "0d5fe5b2-fae5-468b-ffb3-9a9b6b0842a2",
    "scrolled": true
   },
   "outputs": [
    {
     "data": {
      "text/plain": [
       "'배송은 생각보다 빨리도착했네요 손목 스트랩 1쌍~레드 디자인 이쁘고 마감처리 깔끔하고 스트랩 로고처리로 고급져보이네요 스트랩에 미끄럽지 않게 미끄렁방지 처리까지 되어있네요 저렴하게 구매할수 있어 정말 만족합니다 강력 추천하고 싶네요 ㅋ\\n배송 빠르고 색상 디자인 마감처리 깔끔하니 가성비 좋아요 만족합니다 강력 추천~~ㅋ\\n정말 좋습니다. 기대이상인듯. 2~3만원대 WSF나 Schiek의 리프팅 스트랩에 비교해도 기능성으로는 전혀 문제가 없을듯합니다. 착용감은 좋은데 사용전이라 장시간 사용했을때 실리콘이 안떨어지길 바래봅니다. 아 바느질은 좀 거친감이 있습니다.\\n3개중에 한개는 포장이 열린 상태로 왔습니다 하지만 상품에는 아무 문제 없고 미끄럼방지 처리도 깔끔하게 잘 되어있어서 가성비 너무 좋게 잘 샀습니다~\\n아 배송은 8일 걸려서 배송지연으로 배송무료 쿠폰 받았습니다.\\n아주 고퀄은 아니지만 스트랩이란건 튼튼하면 그만이니 이 가격은 아주아주 혜자. 깔별로 사모으는것도 재밋을듯요\\n한번에 다왔습니다. 배송이 조금 늦어져서 쿠폰도 받고 했지만.. 그래도 안전하게 배송 잘왔습니다. 주문하실때 여러번 나눠서 주문하면 통관하는데 오래 걸리는듯 합니다. 잘왔습니다~ 잘쓰겠습니다.\\n저렴해서 기대 안했는데 미끄럼 방지도 돼있네요. 좋아요\\n배송은 조금 느리지만 상품은 좋습니다.\\n좋습니다 좋겠습니다 좋으네 좋아요\\n좋아용\\n매우 만족합니다. 좋아요~~^^\\n배송도빠르고 저렴하고좋습니다 ㅎㅎ\\n좋습니다\\n가격 저렴하고 쓸만합니다\\n가격대비 품질 좋은 편. 내구성은 오래 안 써봐서 아직 모름. 마프 스트랩 썼었는데 마프꺼보다 쿠션은 훨씬 말랑하고 스트랩은 얇은 편. 완전 면 재질은 아님. 그래도 가격대비 이 정도면 만족. 사용성만 좋으면 여기로 정착할 듯. 개인적으로 미끄럼방지 고무가 바벨 쪽이 아니라 손에 있었으면 좋았을 듯. 원래 손 쪽에 있는 거라던데..\\n대만족입니다\\n싸고 좋다 그냥 사라\\n품질이 좋아. 바벨과 닿는면에 실리콘 처리까지 되어있고, 손목에는 쿠션도 있다.\\n테무보다 저렴하다. 좋은 브랜드라고 생각한다.\\n생각보다 아주 좋네요.\\n저렴하고 너무좋습니다.\\n데드리프트할때 좋아요\\n초보자들이 사용하기 적합하단다.\\n아 괜찮습니다\\n좋아요\\n좀 길지만..잘 사용함\\n아주 좋아요. 아주 아주\\n이 가격에 이 퀄리티라니! 정말 강추합니다!\\n좋습니다. good\\n약간뻣뻣합니다. 배송 매우늦음\\n좋아요\\n제품 괜찮네요~\\n아주아주 좋아요\\n쫌 뻣뻣하고 마감부분이 날카로워요\\n남자는 핑크 진리 또구매합니다\\n엄청 좋지는 않아여\\n배송도빠르고 저렴하고좋습니다 ㅎㅎ\\n아주좋아요'"
      ]
     },
     "execution_count": 13,
     "metadata": {},
     "output_type": "execute_result"
    }
   ],
   "source": [
    "train_df['댓글'][1]"
   ]
  },
  {
   "cell_type": "code",
   "execution_count": 14,
   "metadata": {
    "execution": {
     "iopub.execute_input": "2024-06-07T04:57:04.446460Z",
     "iopub.status.busy": "2024-06-07T04:57:04.445463Z",
     "iopub.status.idle": "2024-06-07T04:57:04.476407Z",
     "shell.execute_reply": "2024-06-07T04:57:04.476407Z",
     "shell.execute_reply.started": "2024-06-07T04:57:04.446460Z"
    }
   },
   "outputs": [],
   "source": [
    "# 댓글들 각각에 인덱스를 부여하는 작업\n",
    "# 이 작업을 통해서 각 댓글의 긍정, 부정을 라벨링 할 것임\n",
    "def split_review(review):\n",
    "    return list(map(str, review.split('\\n')))\n",
    "\n",
    "# review_list 컬럼을 만들어 댓글들을 인덱스 번호 하나하나에 배치\n",
    "train_df['review_list'] = train_df['댓글'].apply(split_review)\n",
    "\n",
    "# 별점을 정수형 리스트로 변환\n",
    "def split_stars(stars):\n",
    "    return list(map(int, stars.split('\\n')))\n",
    "\n",
    "\n",
    "# 각 행에 대해 별점 리스트로 변환\n",
    "train_df['star_list'] = train_df['별점'].apply(split_stars)\n",
    "\n",
    "# 별점 리스트를 긍정/부정 리스트로 변환\n",
    "def classify_star_list(star_list):\n",
    "    return [ 1 if star in [4, 5] else 0 for star in star_list]\n",
    "\n",
    "# label이라는 새로운 컬럼을 만들어 별점 리스트에 대한 긍정/부정 리스트 추가\n",
    "train_df['label'] = train_df['star_list'].apply(classify_star_list)\n"
   ]
  },
  {
   "cell_type": "code",
   "execution_count": 15,
   "metadata": {
    "execution": {
     "iopub.execute_input": "2024-06-07T04:57:05.341574Z",
     "iopub.status.busy": "2024-06-07T04:57:05.341574Z",
     "iopub.status.idle": "2024-06-07T04:57:05.365539Z",
     "shell.execute_reply": "2024-06-07T04:57:05.365539Z",
     "shell.execute_reply.started": "2024-06-07T04:57:05.341574Z"
    }
   },
   "outputs": [
    {
     "data": {
      "text/plain": [
       "0      [배송은 생각보다 빨리도착했네요 손목 스트랩 1쌍~레드 디자인 이쁘고 마감처리 깔끔...\n",
       "1      [감사합니다, 지퍼 손잡이 매듭용으로 좋습니다, 잘받았습니다 잘받았습니다, 이색인줄...\n",
       "2      [뭔 배송하면서 바닷물에 담궈서 가져오냐? 쓰기도 전에 녹슬어서 오는 메이드인 차이...\n",
       "3      [생각보다 너무괜찮은데요? 후기좋은 이유가있엇네요 불판도생각보다 두껍고튼튼한듯ㅎ 저...\n",
       "4      [잘받았습니다, 좋아요 가격대비 만족합니다, 진짜 빨리받앗어요. 일주일?? 턱걸이하...\n",
       "                             ...                        \n",
       "265    [접착력이 약하다는말이 있어서 고민되었는데 싸서 한번사봤는데 너무 너무 짱짱하고 좋...\n",
       "266    [케이블이 두껍네요. 고속충전 잘 됩니다., 괜찮네요 120w까지 되는지 확인은 못...\n",
       "267    [택배 수령 이후 매일 사용해 보았습니다. 성능도 충분하고 발열문제도 없이 안정적으...\n",
       "268    [검은화면 뛰어보니 올레드 패널은 아닌거같은데 그거말곤 정품이랑 다 같네요 좋습니다...\n",
       "269    [상품이 좋습니다, 만족합니다. 추천합니다, 감사합니다 잘 쓰겠습니다, 필요한제품인...\n",
       "Name: review_list, Length: 270, dtype: object"
      ]
     },
     "execution_count": 15,
     "metadata": {},
     "output_type": "execute_result"
    }
   ],
   "source": [
    "# 리뷰리스트에 인덱스가 290까지 되어 있지만 270개가 실 데이터이기 때문에 reset_indet를 통해 다시 인덱싱함\n",
    "train_df['review_list'].reset_index(drop=True, inplace=False)"
   ]
  },
  {
   "cell_type": "code",
   "execution_count": 18,
   "metadata": {
    "execution": {
     "iopub.execute_input": "2024-06-07T04:57:24.531970Z",
     "iopub.status.busy": "2024-06-07T04:57:24.531970Z",
     "iopub.status.idle": "2024-06-07T04:57:24.551917Z",
     "shell.execute_reply": "2024-06-07T04:57:24.551917Z",
     "shell.execute_reply.started": "2024-06-07T04:57:24.531970Z"
    }
   },
   "outputs": [
    {
     "data": {
      "text/plain": [
       "'배송은 생각보다 빨리도착했네요 손목 스트랩 1쌍~레드 디자인 이쁘고 마감처리 깔끔하고 스트랩 로고처리로 고급져보이네요 스트랩에 미끄럽지 않게 미끄렁방지 처리까지 되어있네요 저렴하게 구매할수 있어 정말 만족합니다 강력 추천하고 싶네요 ㅋ'"
      ]
     },
     "execution_count": 18,
     "metadata": {},
     "output_type": "execute_result"
    }
   ],
   "source": [
    "train_df['review_list'][1][0]"
   ]
  },
  {
   "cell_type": "code",
   "execution_count": 54,
   "metadata": {
    "execution": {
     "iopub.execute_input": "2024-06-06T13:52:14.856539Z",
     "iopub.status.busy": "2024-06-06T13:52:14.855541Z",
     "iopub.status.idle": "2024-06-06T13:52:14.872499Z",
     "shell.execute_reply": "2024-06-06T13:52:14.871502Z",
     "shell.execute_reply.started": "2024-06-06T13:52:14.856539Z"
    }
   },
   "outputs": [
    {
     "data": {
      "text/plain": [
       "270"
      ]
     },
     "execution_count": 54,
     "metadata": {},
     "output_type": "execute_result"
    }
   ],
   "source": [
    "#len을 통해 270개 정확히 확인\n",
    "len(train_df['review_list'])"
   ]
  },
  {
   "cell_type": "code",
   "execution_count": 89,
   "metadata": {
    "execution": {
     "iopub.execute_input": "2024-06-06T14:14:21.951991Z",
     "iopub.status.busy": "2024-06-06T14:14:21.950992Z",
     "iopub.status.idle": "2024-06-06T14:14:21.964036Z",
     "shell.execute_reply": "2024-06-06T14:14:21.964036Z",
     "shell.execute_reply.started": "2024-06-06T14:14:21.951991Z"
    }
   },
   "outputs": [],
   "source": [
    "# 필요없는 컬럼 정리\n",
    "train_df_clean = train_df.drop(columns=['평점','댓글','별점','링크','star_list'])"
   ]
  },
  {
   "cell_type": "code",
   "execution_count": 91,
   "metadata": {
    "execution": {
     "iopub.execute_input": "2024-06-06T14:14:32.009420Z",
     "iopub.status.busy": "2024-06-06T14:14:32.009420Z",
     "iopub.status.idle": "2024-06-06T14:14:32.013420Z",
     "shell.execute_reply": "2024-06-06T14:14:32.013420Z",
     "shell.execute_reply.started": "2024-06-06T14:14:32.009420Z"
    },
    "scrolled": true
   },
   "outputs": [],
   "source": [
    "# 인덱스 정리  (290개로 인덱싱이 되어 있는데 실 데이터는 270개 임으로 인덱스 정리 필요)\n",
    "train_df_clean.reset_index(drop= True, inplace= True)"
   ]
  },
  {
   "cell_type": "code",
   "execution_count": 94,
   "metadata": {
    "execution": {
     "iopub.execute_input": "2024-06-06T14:14:58.617501Z",
     "iopub.status.busy": "2024-06-06T14:14:58.617501Z",
     "iopub.status.idle": "2024-06-06T14:14:58.630464Z",
     "shell.execute_reply": "2024-06-06T14:14:58.630464Z",
     "shell.execute_reply.started": "2024-06-06T14:14:58.617501Z"
    }
   },
   "outputs": [
    {
     "data": {
      "text/html": [
       "<div>\n",
       "<style scoped>\n",
       "    .dataframe tbody tr th:only-of-type {\n",
       "        vertical-align: middle;\n",
       "    }\n",
       "\n",
       "    .dataframe tbody tr th {\n",
       "        vertical-align: top;\n",
       "    }\n",
       "\n",
       "    .dataframe thead th {\n",
       "        text-align: right;\n",
       "    }\n",
       "</style>\n",
       "<table border=\"1\" class=\"dataframe\">\n",
       "  <thead>\n",
       "    <tr style=\"text-align: right;\">\n",
       "      <th></th>\n",
       "      <th>상품명</th>\n",
       "      <th>가격</th>\n",
       "      <th>review_list</th>\n",
       "      <th>label</th>\n",
       "    </tr>\n",
       "  </thead>\n",
       "  <tbody>\n",
       "    <tr>\n",
       "      <th>265</th>\n",
       "      <td>아이폰용 마그네틱 오리지널 맥세이프 케이스, 실리콘 아크릴, 맥세이프 커버, 13,...</td>\n",
       "      <td>1,402</td>\n",
       "      <td>[접착력이 약하다는말이 있어서 고민되었는데 싸서 한번사봤는데 너무 너무 짱짱하고 좋...</td>\n",
       "      <td>[1, 1, 1, 1, 1, 1, 1, 1, 1, 1, 1, 1, 1, 1, 1, ...</td>\n",
       "    </tr>\n",
       "    <tr>\n",
       "      <th>266</th>\n",
       "      <td>아이폰 15 샤오미 원플러스 휴대폰용 C타입 케이블, 고속 충전 USB C타입 케이...</td>\n",
       "      <td>1,402</td>\n",
       "      <td>[케이블이 두껍네요. 고속충전 잘 됩니다., 괜찮네요 120w까지 되는지 확인은 못...</td>\n",
       "      <td>[1, 1, 1, 1, 1, 1, 1, 1, 1, 1, 1, 1, 1, 1, 1, ...</td>\n",
       "    </tr>\n",
       "    <tr>\n",
       "      <th>267</th>\n",
       "      <td>Toocki 데스크탑 고속 충전 USB C 타입 충전기, 아이폰 샤오미 스마트폰 노...</td>\n",
       "      <td>36,215</td>\n",
       "      <td>[택배 수령 이후 매일 사용해 보았습니다. 성능도 충분하고 발열문제도 없이 안정적으...</td>\n",
       "      <td>[1, 1, 1, 1, 1, 1, 1, 1, 1, 1, 1, 1, 1, 1, 1, ...</td>\n",
       "    </tr>\n",
       "    <tr>\n",
       "      <th>268</th>\n",
       "      <td>아이폰 X XR XS 맥스 11 12 프로 맥스용 OLED 스크린 LCD 디스플레이...</td>\n",
       "      <td>11,496</td>\n",
       "      <td>[검은화면 뛰어보니 올레드 패널은 아닌거같은데 그거말곤 정품이랑 다 같네요 좋습니다...</td>\n",
       "      <td>[1, 1, 1, 1, 1, 1, 1, 1, 1, 1, 0, 1, 1, 1, 1, ...</td>\n",
       "    </tr>\n",
       "    <tr>\n",
       "      <th>269</th>\n",
       "      <td>OTG USB 3.0 to C타입 어댑터, USB 암 to C타입 수 고속 충전 어...</td>\n",
       "      <td>1,455</td>\n",
       "      <td>[상품이 좋습니다, 만족합니다. 추천합니다, 감사합니다 잘 쓰겠습니다, 필요한제품인...</td>\n",
       "      <td>[1, 1, 1, 1, 1, 1, 1, 1, 1, 1, 1, 1, 0, 0, 1, ...</td>\n",
       "    </tr>\n",
       "  </tbody>\n",
       "</table>\n",
       "</div>"
      ],
      "text/plain": [
       "                                                   상품명      가격  \\\n",
       "265  아이폰용 마그네틱 오리지널 맥세이프 케이스, 실리콘 아크릴, 맥세이프 커버, 13,...   1,402   \n",
       "266  아이폰 15 샤오미 원플러스 휴대폰용 C타입 케이블, 고속 충전 USB C타입 케이...   1,402   \n",
       "267  Toocki 데스크탑 고속 충전 USB C 타입 충전기, 아이폰 샤오미 스마트폰 노...  36,215   \n",
       "268  아이폰 X XR XS 맥스 11 12 프로 맥스용 OLED 스크린 LCD 디스플레이...  11,496   \n",
       "269  OTG USB 3.0 to C타입 어댑터, USB 암 to C타입 수 고속 충전 어...   1,455   \n",
       "\n",
       "                                           review_list  \\\n",
       "265  [접착력이 약하다는말이 있어서 고민되었는데 싸서 한번사봤는데 너무 너무 짱짱하고 좋...   \n",
       "266  [케이블이 두껍네요. 고속충전 잘 됩니다., 괜찮네요 120w까지 되는지 확인은 못...   \n",
       "267  [택배 수령 이후 매일 사용해 보았습니다. 성능도 충분하고 발열문제도 없이 안정적으...   \n",
       "268  [검은화면 뛰어보니 올레드 패널은 아닌거같은데 그거말곤 정품이랑 다 같네요 좋습니다...   \n",
       "269  [상품이 좋습니다, 만족합니다. 추천합니다, 감사합니다 잘 쓰겠습니다, 필요한제품인...   \n",
       "\n",
       "                                                 label  \n",
       "265  [1, 1, 1, 1, 1, 1, 1, 1, 1, 1, 1, 1, 1, 1, 1, ...  \n",
       "266  [1, 1, 1, 1, 1, 1, 1, 1, 1, 1, 1, 1, 1, 1, 1, ...  \n",
       "267  [1, 1, 1, 1, 1, 1, 1, 1, 1, 1, 1, 1, 1, 1, 1, ...  \n",
       "268  [1, 1, 1, 1, 1, 1, 1, 1, 1, 1, 0, 1, 1, 1, 1, ...  \n",
       "269  [1, 1, 1, 1, 1, 1, 1, 1, 1, 1, 1, 1, 0, 0, 1, ...  "
      ]
     },
     "execution_count": 94,
     "metadata": {},
     "output_type": "execute_result"
    }
   ],
   "source": [
    "train_df_clean.tail()"
   ]
  },
  {
   "cell_type": "code",
   "execution_count": 93,
   "metadata": {
    "execution": {
     "iopub.execute_input": "2024-06-06T14:14:50.471114Z",
     "iopub.status.busy": "2024-06-06T14:14:50.471114Z",
     "iopub.status.idle": "2024-06-06T14:14:50.482764Z",
     "shell.execute_reply": "2024-06-06T14:14:50.482764Z",
     "shell.execute_reply.started": "2024-06-06T14:14:50.471114Z"
    }
   },
   "outputs": [
    {
     "name": "stdout",
     "output_type": "stream",
     "text": [
      "<class 'pandas.core.frame.DataFrame'>\n",
      "RangeIndex: 270 entries, 0 to 269\n",
      "Data columns (total 4 columns):\n",
      " #   Column       Non-Null Count  Dtype \n",
      "---  ------       --------------  ----- \n",
      " 0   상품명          270 non-null    object\n",
      " 1   가격           270 non-null    object\n",
      " 2   review_list  270 non-null    object\n",
      " 3   label        270 non-null    object\n",
      "dtypes: object(4)\n",
      "memory usage: 8.6+ KB\n"
     ]
    }
   ],
   "source": [
    "train_df_clean.info()"
   ]
  },
  {
   "cell_type": "code",
   "execution_count": null,
   "metadata": {
    "scrolled": true
   },
   "outputs": [],
   "source": [
    "# 'reviews_list' 컬럼을 빈 리스트로 초기화\n",
    "# train_df['reviews_list'] = []\n",
    "\n",
    "# for i in range(len(train_df['review_list'])):\n",
    "#    for review in train_df['review_list'][i]:\n",
    "#        train_df['reviews_list'].append(review)"
   ]
  },
  {
   "cell_type": "code",
   "execution_count": 95,
   "metadata": {
    "execution": {
     "iopub.execute_input": "2024-06-06T14:16:07.407950Z",
     "iopub.status.busy": "2024-06-06T14:16:07.407330Z",
     "iopub.status.idle": "2024-06-06T14:16:07.429001Z",
     "shell.execute_reply": "2024-06-06T14:16:07.428012Z",
     "shell.execute_reply.started": "2024-06-06T14:16:07.407950Z"
    }
   },
   "outputs": [
    {
     "data": {
      "text/plain": [
       "Index(['상품명', '가격', 'review_list', 'label'], dtype='object')"
      ]
     },
     "execution_count": 95,
     "metadata": {},
     "output_type": "execute_result"
    }
   ],
   "source": [
    "train_df_clean.columns"
   ]
  },
  {
   "cell_type": "code",
   "execution_count": 99,
   "metadata": {
    "execution": {
     "iopub.execute_input": "2024-06-06T14:16:39.887416Z",
     "iopub.status.busy": "2024-06-06T14:16:39.887416Z",
     "iopub.status.idle": "2024-06-06T14:16:39.898575Z",
     "shell.execute_reply": "2024-06-06T14:16:39.897747Z",
     "shell.execute_reply.started": "2024-06-06T14:16:39.887416Z"
    },
    "id": "QBXAutYWAh7w"
   },
   "outputs": [],
   "source": [
    "# 전처리 : 정규표현식 사용, 한글 외 문자 제거\n",
    "\n",
    "import re\n",
    "# re : regular expression 정규표현식"
   ]
  },
  {
   "cell_type": "code",
   "execution_count": 19,
   "metadata": {
    "colab": {
     "base_uri": "https://localhost:8080/"
    },
    "execution": {
     "iopub.execute_input": "2024-06-07T04:57:36.983437Z",
     "iopub.status.busy": "2024-06-07T04:57:36.983437Z",
     "iopub.status.idle": "2024-06-07T04:57:37.005379Z",
     "shell.execute_reply": "2024-06-07T04:57:37.004381Z",
     "shell.execute_reply.started": "2024-06-07T04:57:36.983437Z"
    },
    "id": "WuN-kkC4AtVq",
    "outputId": "ed78645d-7549-4f40-892f-46f46bebd773"
   },
   "outputs": [
    {
     "ename": "NameError",
     "evalue": "name 'train_df_clean' is not defined",
     "output_type": "error",
     "traceback": [
      "\u001b[1;31m---------------------------------------------------------------------------\u001b[0m",
      "\u001b[1;31mNameError\u001b[0m                                 Traceback (most recent call last)",
      "Cell \u001b[1;32mIn[19], line 1\u001b[0m\n\u001b[1;32m----> 1\u001b[0m \u001b[43mtrain_df_clean\u001b[49m[\u001b[38;5;124m'\u001b[39m\u001b[38;5;124mreview_list\u001b[39m\u001b[38;5;124m'\u001b[39m]\n",
      "\u001b[1;31mNameError\u001b[0m: name 'train_df_clean' is not defined"
     ]
    }
   ],
   "source": [
    "train_df_clean['review_list']"
   ]
  },
  {
   "cell_type": "code",
   "execution_count": 102,
   "metadata": {
    "colab": {
     "base_uri": "https://localhost:8080/"
    },
    "execution": {
     "iopub.execute_input": "2024-06-06T14:17:04.288530Z",
     "iopub.status.busy": "2024-06-06T14:17:04.288530Z",
     "iopub.status.idle": "2024-06-06T14:17:04.367319Z",
     "shell.execute_reply": "2024-06-06T14:17:04.367319Z",
     "shell.execute_reply.started": "2024-06-06T14:17:04.288530Z"
    },
    "id": "kYdauMV4AwoY",
    "outputId": "443fca46-1b3c-43f0-af96-d138240749d0",
    "scrolled": true
   },
   "outputs": [
    {
     "ename": "TypeError",
     "evalue": "expected string or bytes-like object",
     "output_type": "error",
     "traceback": [
      "\u001b[1;31m---------------------------------------------------------------------------\u001b[0m",
      "\u001b[1;31mTypeError\u001b[0m                                 Traceback (most recent call last)",
      "Cell \u001b[1;32mIn[102], line 1\u001b[0m\n\u001b[1;32m----> 1\u001b[0m \u001b[43mtrain_df_clean\u001b[49m\u001b[43m[\u001b[49m\u001b[38;5;124;43m'\u001b[39;49m\u001b[38;5;124;43mreview_list\u001b[39;49m\u001b[38;5;124;43m'\u001b[39;49m\u001b[43m]\u001b[49m\u001b[38;5;241;43m.\u001b[39;49m\u001b[43mapply\u001b[49m\u001b[43m(\u001b[49m\u001b[38;5;28;43;01mlambda\u001b[39;49;00m\u001b[43m \u001b[49m\u001b[43mx\u001b[49m\u001b[43m \u001b[49m\u001b[43m:\u001b[49m\u001b[43m \u001b[49m\u001b[43mre\u001b[49m\u001b[38;5;241;43m.\u001b[39;49m\u001b[43msub\u001b[49m\u001b[43m(\u001b[49m\u001b[38;5;124;43mr\u001b[39;49m\u001b[38;5;124;43m'\u001b[39;49m\u001b[38;5;124;43m[^ㄱ-ㅣ가-힣]+\u001b[39;49m\u001b[38;5;124;43m'\u001b[39;49m\u001b[43m,\u001b[49m\u001b[43m \u001b[49m\u001b[38;5;124;43m'\u001b[39;49m\u001b[38;5;124;43m \u001b[39;49m\u001b[38;5;124;43m'\u001b[39;49m\u001b[43m,\u001b[49m\u001b[43m \u001b[49m\u001b[43mx\u001b[49m\u001b[43m \u001b[49m\u001b[43m)\u001b[49m\u001b[43m)\u001b[49m\n",
      "File \u001b[1;32m~\\anaconda3\\envs\\mulcam\\lib\\site-packages\\pandas\\core\\series.py:4630\u001b[0m, in \u001b[0;36mSeries.apply\u001b[1;34m(self, func, convert_dtype, args, **kwargs)\u001b[0m\n\u001b[0;32m   4520\u001b[0m \u001b[38;5;28;01mdef\u001b[39;00m \u001b[38;5;21mapply\u001b[39m(\n\u001b[0;32m   4521\u001b[0m     \u001b[38;5;28mself\u001b[39m,\n\u001b[0;32m   4522\u001b[0m     func: AggFuncType,\n\u001b[1;32m   (...)\u001b[0m\n\u001b[0;32m   4525\u001b[0m     \u001b[38;5;241m*\u001b[39m\u001b[38;5;241m*\u001b[39mkwargs,\n\u001b[0;32m   4526\u001b[0m ) \u001b[38;5;241m-\u001b[39m\u001b[38;5;241m>\u001b[39m DataFrame \u001b[38;5;241m|\u001b[39m Series:\n\u001b[0;32m   4527\u001b[0m \u001b[38;5;250m    \u001b[39m\u001b[38;5;124;03m\"\"\"\u001b[39;00m\n\u001b[0;32m   4528\u001b[0m \u001b[38;5;124;03m    Invoke function on values of Series.\u001b[39;00m\n\u001b[0;32m   4529\u001b[0m \n\u001b[1;32m   (...)\u001b[0m\n\u001b[0;32m   4628\u001b[0m \u001b[38;5;124;03m    dtype: float64\u001b[39;00m\n\u001b[0;32m   4629\u001b[0m \u001b[38;5;124;03m    \"\"\"\u001b[39;00m\n\u001b[1;32m-> 4630\u001b[0m     \u001b[38;5;28;01mreturn\u001b[39;00m \u001b[43mSeriesApply\u001b[49m\u001b[43m(\u001b[49m\u001b[38;5;28;43mself\u001b[39;49m\u001b[43m,\u001b[49m\u001b[43m \u001b[49m\u001b[43mfunc\u001b[49m\u001b[43m,\u001b[49m\u001b[43m \u001b[49m\u001b[43mconvert_dtype\u001b[49m\u001b[43m,\u001b[49m\u001b[43m \u001b[49m\u001b[43margs\u001b[49m\u001b[43m,\u001b[49m\u001b[43m \u001b[49m\u001b[43mkwargs\u001b[49m\u001b[43m)\u001b[49m\u001b[38;5;241;43m.\u001b[39;49m\u001b[43mapply\u001b[49m\u001b[43m(\u001b[49m\u001b[43m)\u001b[49m\n",
      "File \u001b[1;32m~\\anaconda3\\envs\\mulcam\\lib\\site-packages\\pandas\\core\\apply.py:1025\u001b[0m, in \u001b[0;36mSeriesApply.apply\u001b[1;34m(self)\u001b[0m\n\u001b[0;32m   1022\u001b[0m     \u001b[38;5;28;01mreturn\u001b[39;00m \u001b[38;5;28mself\u001b[39m\u001b[38;5;241m.\u001b[39mapply_str()\n\u001b[0;32m   1024\u001b[0m \u001b[38;5;66;03m# self.f is Callable\u001b[39;00m\n\u001b[1;32m-> 1025\u001b[0m \u001b[38;5;28;01mreturn\u001b[39;00m \u001b[38;5;28;43mself\u001b[39;49m\u001b[38;5;241;43m.\u001b[39;49m\u001b[43mapply_standard\u001b[49m\u001b[43m(\u001b[49m\u001b[43m)\u001b[49m\n",
      "File \u001b[1;32m~\\anaconda3\\envs\\mulcam\\lib\\site-packages\\pandas\\core\\apply.py:1076\u001b[0m, in \u001b[0;36mSeriesApply.apply_standard\u001b[1;34m(self)\u001b[0m\n\u001b[0;32m   1074\u001b[0m     \u001b[38;5;28;01melse\u001b[39;00m:\n\u001b[0;32m   1075\u001b[0m         values \u001b[38;5;241m=\u001b[39m obj\u001b[38;5;241m.\u001b[39mastype(\u001b[38;5;28mobject\u001b[39m)\u001b[38;5;241m.\u001b[39m_values\n\u001b[1;32m-> 1076\u001b[0m         mapped \u001b[38;5;241m=\u001b[39m \u001b[43mlib\u001b[49m\u001b[38;5;241;43m.\u001b[39;49m\u001b[43mmap_infer\u001b[49m\u001b[43m(\u001b[49m\n\u001b[0;32m   1077\u001b[0m \u001b[43m            \u001b[49m\u001b[43mvalues\u001b[49m\u001b[43m,\u001b[49m\n\u001b[0;32m   1078\u001b[0m \u001b[43m            \u001b[49m\u001b[43mf\u001b[49m\u001b[43m,\u001b[49m\n\u001b[0;32m   1079\u001b[0m \u001b[43m            \u001b[49m\u001b[43mconvert\u001b[49m\u001b[38;5;241;43m=\u001b[39;49m\u001b[38;5;28;43mself\u001b[39;49m\u001b[38;5;241;43m.\u001b[39;49m\u001b[43mconvert_dtype\u001b[49m\u001b[43m,\u001b[49m\n\u001b[0;32m   1080\u001b[0m \u001b[43m        \u001b[49m\u001b[43m)\u001b[49m\n\u001b[0;32m   1082\u001b[0m \u001b[38;5;28;01mif\u001b[39;00m \u001b[38;5;28mlen\u001b[39m(mapped) \u001b[38;5;129;01mand\u001b[39;00m \u001b[38;5;28misinstance\u001b[39m(mapped[\u001b[38;5;241m0\u001b[39m], ABCSeries):\n\u001b[0;32m   1083\u001b[0m     \u001b[38;5;66;03m# GH#43986 Need to do list(mapped) in order to get treated as nested\u001b[39;00m\n\u001b[0;32m   1084\u001b[0m     \u001b[38;5;66;03m#  See also GH#25959 regarding EA support\u001b[39;00m\n\u001b[0;32m   1085\u001b[0m     \u001b[38;5;28;01mreturn\u001b[39;00m obj\u001b[38;5;241m.\u001b[39m_constructor_expanddim(\u001b[38;5;28mlist\u001b[39m(mapped), index\u001b[38;5;241m=\u001b[39mobj\u001b[38;5;241m.\u001b[39mindex)\n",
      "File \u001b[1;32m~\\anaconda3\\envs\\mulcam\\lib\\site-packages\\pandas\\_libs\\lib.pyx:2834\u001b[0m, in \u001b[0;36mpandas._libs.lib.map_infer\u001b[1;34m()\u001b[0m\n",
      "Cell \u001b[1;32mIn[102], line 1\u001b[0m, in \u001b[0;36m<lambda>\u001b[1;34m(x)\u001b[0m\n\u001b[1;32m----> 1\u001b[0m train_df_clean[\u001b[38;5;124m'\u001b[39m\u001b[38;5;124mreview_list\u001b[39m\u001b[38;5;124m'\u001b[39m]\u001b[38;5;241m.\u001b[39mapply(\u001b[38;5;28;01mlambda\u001b[39;00m x : \u001b[43mre\u001b[49m\u001b[38;5;241;43m.\u001b[39;49m\u001b[43msub\u001b[49m\u001b[43m(\u001b[49m\u001b[38;5;124;43mr\u001b[39;49m\u001b[38;5;124;43m'\u001b[39;49m\u001b[38;5;124;43m[^ㄱ-ㅣ가-힣]+\u001b[39;49m\u001b[38;5;124;43m'\u001b[39;49m\u001b[43m,\u001b[49m\u001b[43m \u001b[49m\u001b[38;5;124;43m'\u001b[39;49m\u001b[38;5;124;43m \u001b[39;49m\u001b[38;5;124;43m'\u001b[39;49m\u001b[43m,\u001b[49m\u001b[43m \u001b[49m\u001b[43mx\u001b[49m\u001b[43m \u001b[49m\u001b[43m)\u001b[49m)\n",
      "File \u001b[1;32m~\\anaconda3\\envs\\mulcam\\lib\\re.py:210\u001b[0m, in \u001b[0;36msub\u001b[1;34m(pattern, repl, string, count, flags)\u001b[0m\n\u001b[0;32m    203\u001b[0m \u001b[38;5;28;01mdef\u001b[39;00m \u001b[38;5;21msub\u001b[39m(pattern, repl, string, count\u001b[38;5;241m=\u001b[39m\u001b[38;5;241m0\u001b[39m, flags\u001b[38;5;241m=\u001b[39m\u001b[38;5;241m0\u001b[39m):\n\u001b[0;32m    204\u001b[0m \u001b[38;5;250m    \u001b[39m\u001b[38;5;124;03m\"\"\"Return the string obtained by replacing the leftmost\u001b[39;00m\n\u001b[0;32m    205\u001b[0m \u001b[38;5;124;03m    non-overlapping occurrences of the pattern in string by the\u001b[39;00m\n\u001b[0;32m    206\u001b[0m \u001b[38;5;124;03m    replacement repl.  repl can be either a string or a callable;\u001b[39;00m\n\u001b[0;32m    207\u001b[0m \u001b[38;5;124;03m    if a string, backslash escapes in it are processed.  If it is\u001b[39;00m\n\u001b[0;32m    208\u001b[0m \u001b[38;5;124;03m    a callable, it's passed the Match object and must return\u001b[39;00m\n\u001b[0;32m    209\u001b[0m \u001b[38;5;124;03m    a replacement string to be used.\"\"\"\u001b[39;00m\n\u001b[1;32m--> 210\u001b[0m     \u001b[38;5;28;01mreturn\u001b[39;00m \u001b[43m_compile\u001b[49m\u001b[43m(\u001b[49m\u001b[43mpattern\u001b[49m\u001b[43m,\u001b[49m\u001b[43m \u001b[49m\u001b[43mflags\u001b[49m\u001b[43m)\u001b[49m\u001b[38;5;241;43m.\u001b[39;49m\u001b[43msub\u001b[49m\u001b[43m(\u001b[49m\u001b[43mrepl\u001b[49m\u001b[43m,\u001b[49m\u001b[43m \u001b[49m\u001b[43mstring\u001b[49m\u001b[43m,\u001b[49m\u001b[43m \u001b[49m\u001b[43mcount\u001b[49m\u001b[43m)\u001b[49m\n",
      "\u001b[1;31mTypeError\u001b[0m: expected string or bytes-like object"
     ]
    }
   ],
   "source": [
    "train_df_clean['review_list'].apply(lambda x : re.sub(r'[^ㄱ-ㅣ가-힣]+', ' ', x ))"
   ]
  },
  {
   "cell_type": "code",
   "execution_count": 105,
   "metadata": {
    "execution": {
     "iopub.execute_input": "2024-06-06T14:22:38.722798Z",
     "iopub.status.busy": "2024-06-06T14:22:38.722798Z",
     "iopub.status.idle": "2024-06-06T14:22:38.729671Z",
     "shell.execute_reply": "2024-06-06T14:22:38.728673Z",
     "shell.execute_reply.started": "2024-06-06T14:22:38.722798Z"
    }
   },
   "outputs": [],
   "source": [
    "# 정규화를 하려 했으나 해당 컬럼의 값들이 모두 리스트로 들어가 있어서 re.sub이 먹지 않음\n",
    "# 결국 이를 위해서 list를 벗겨서 이를 str로 만들어야 한다.\n",
    "# 하지만 인덱스는 270개 뿐, list를 벗기면 2000개가 넘는 index가 필요하다.\n",
    "# 결국 review_list와 label만 따로 뽑은 데이터를 만들어서 다시 불러오기로 한다.\n",
    "\n",
    "train_df_clean = train_df_clean[['review_list','label']]"
   ]
  },
  {
   "cell_type": "code",
   "execution_count": 111,
   "metadata": {
    "execution": {
     "iopub.execute_input": "2024-06-06T14:27:41.809196Z",
     "iopub.status.busy": "2024-06-06T14:27:41.808198Z",
     "iopub.status.idle": "2024-06-06T14:27:41.852686Z",
     "shell.execute_reply": "2024-06-06T14:27:41.851688Z",
     "shell.execute_reply.started": "2024-06-06T14:27:41.809196Z"
    }
   },
   "outputs": [],
   "source": [
    "train_df_clean.to_csv('./datas/review_list_label.csv', encoding='utf-8', index= False)"
   ]
  },
  {
   "cell_type": "code",
   "execution_count": 112,
   "metadata": {
    "execution": {
     "iopub.execute_input": "2024-06-06T14:27:45.306013Z",
     "iopub.status.busy": "2024-06-06T14:27:45.306013Z",
     "iopub.status.idle": "2024-06-06T14:27:45.351235Z",
     "shell.execute_reply": "2024-06-06T14:27:45.350460Z",
     "shell.execute_reply.started": "2024-06-06T14:27:45.306013Z"
    }
   },
   "outputs": [
    {
     "data": {
      "text/html": [
       "<div>\n",
       "<style scoped>\n",
       "    .dataframe tbody tr th:only-of-type {\n",
       "        vertical-align: middle;\n",
       "    }\n",
       "\n",
       "    .dataframe tbody tr th {\n",
       "        vertical-align: top;\n",
       "    }\n",
       "\n",
       "    .dataframe thead th {\n",
       "        text-align: right;\n",
       "    }\n",
       "</style>\n",
       "<table border=\"1\" class=\"dataframe\">\n",
       "  <thead>\n",
       "    <tr style=\"text-align: right;\">\n",
       "      <th></th>\n",
       "      <th>review_list</th>\n",
       "      <th>label</th>\n",
       "    </tr>\n",
       "  </thead>\n",
       "  <tbody>\n",
       "    <tr>\n",
       "      <th>0</th>\n",
       "      <td>['배송은 생각보다 빨리도착했네요 손목 스트랩 1쌍~레드 디자인 이쁘고 마감처리 깔...</td>\n",
       "      <td>[1, 1, 1, 1, 1, 1, 1, 1, 1, 1, 1, 1, 1, 1, 1, ...</td>\n",
       "    </tr>\n",
       "    <tr>\n",
       "      <th>1</th>\n",
       "      <td>['감사합니다', '지퍼 손잡이 매듭용으로 좋습니다', '잘받았습니다 잘받았습니다'...</td>\n",
       "      <td>[1, 1, 1, 1, 1, 1, 1, 0, 1, 1, 1, 1, 1, 1, 1, ...</td>\n",
       "    </tr>\n",
       "    <tr>\n",
       "      <th>2</th>\n",
       "      <td>['뭔 배송하면서 바닷물에 담궈서 가져오냐? 쓰기도 전에 녹슬어서 오는 메이드인 차...</td>\n",
       "      <td>[1, 1, 1, 1, 1, 1, 1, 1, 1, 1, 1, 1, 1, 1, 1, ...</td>\n",
       "    </tr>\n",
       "    <tr>\n",
       "      <th>3</th>\n",
       "      <td>['생각보다 너무괜찮은데요? 후기좋은 이유가있엇네요 불판도생각보다 두껍고튼튼한듯ㅎ ...</td>\n",
       "      <td>[1, 1, 1, 1, 1, 1, 1, 1, 1, 1, 1, 1, 1, 1, 1, ...</td>\n",
       "    </tr>\n",
       "    <tr>\n",
       "      <th>4</th>\n",
       "      <td>['잘받았습니다', '좋아요 가격대비 만족합니다', '진짜 빨리받앗어요. 일주일??...</td>\n",
       "      <td>[1, 1, 1, 1, 1, 1, 1, 1, 1, 1, 1, 1, 1, 1, 1, ...</td>\n",
       "    </tr>\n",
       "    <tr>\n",
       "      <th>...</th>\n",
       "      <td>...</td>\n",
       "      <td>...</td>\n",
       "    </tr>\n",
       "    <tr>\n",
       "      <th>265</th>\n",
       "      <td>['접착력이 약하다는말이 있어서 고민되었는데 싸서 한번사봤는데 너무 너무 짱짱하고 ...</td>\n",
       "      <td>[1, 1, 1, 1, 1, 1, 1, 1, 1, 1, 1, 1, 1, 1, 1, ...</td>\n",
       "    </tr>\n",
       "    <tr>\n",
       "      <th>266</th>\n",
       "      <td>['케이블이 두껍네요. 고속충전 잘 됩니다.', '괜찮네요 120w까지 되는지 확인...</td>\n",
       "      <td>[1, 1, 1, 1, 1, 1, 1, 1, 1, 1, 1, 1, 1, 1, 1, ...</td>\n",
       "    </tr>\n",
       "    <tr>\n",
       "      <th>267</th>\n",
       "      <td>['택배 수령 이후 매일 사용해 보았습니다. 성능도 충분하고 발열문제도 없이 안정적...</td>\n",
       "      <td>[1, 1, 1, 1, 1, 1, 1, 1, 1, 1, 1, 1, 1, 1, 1, ...</td>\n",
       "    </tr>\n",
       "    <tr>\n",
       "      <th>268</th>\n",
       "      <td>['검은화면 뛰어보니 올레드 패널은 아닌거같은데 그거말곤 정품이랑 다 같네요 좋습니...</td>\n",
       "      <td>[1, 1, 1, 1, 1, 1, 1, 1, 1, 1, 0, 1, 1, 1, 1, ...</td>\n",
       "    </tr>\n",
       "    <tr>\n",
       "      <th>269</th>\n",
       "      <td>['상품이 좋습니다', '만족합니다. 추천합니다', '감사합니다 잘 쓰겠습니다', ...</td>\n",
       "      <td>[1, 1, 1, 1, 1, 1, 1, 1, 1, 1, 1, 1, 0, 0, 1, ...</td>\n",
       "    </tr>\n",
       "  </tbody>\n",
       "</table>\n",
       "<p>270 rows × 2 columns</p>\n",
       "</div>"
      ],
      "text/plain": [
       "                                           review_list  \\\n",
       "0    ['배송은 생각보다 빨리도착했네요 손목 스트랩 1쌍~레드 디자인 이쁘고 마감처리 깔...   \n",
       "1    ['감사합니다', '지퍼 손잡이 매듭용으로 좋습니다', '잘받았습니다 잘받았습니다'...   \n",
       "2    ['뭔 배송하면서 바닷물에 담궈서 가져오냐? 쓰기도 전에 녹슬어서 오는 메이드인 차...   \n",
       "3    ['생각보다 너무괜찮은데요? 후기좋은 이유가있엇네요 불판도생각보다 두껍고튼튼한듯ㅎ ...   \n",
       "4    ['잘받았습니다', '좋아요 가격대비 만족합니다', '진짜 빨리받앗어요. 일주일??...   \n",
       "..                                                 ...   \n",
       "265  ['접착력이 약하다는말이 있어서 고민되었는데 싸서 한번사봤는데 너무 너무 짱짱하고 ...   \n",
       "266  ['케이블이 두껍네요. 고속충전 잘 됩니다.', '괜찮네요 120w까지 되는지 확인...   \n",
       "267  ['택배 수령 이후 매일 사용해 보았습니다. 성능도 충분하고 발열문제도 없이 안정적...   \n",
       "268  ['검은화면 뛰어보니 올레드 패널은 아닌거같은데 그거말곤 정품이랑 다 같네요 좋습니...   \n",
       "269  ['상품이 좋습니다', '만족합니다. 추천합니다', '감사합니다 잘 쓰겠습니다', ...   \n",
       "\n",
       "                                                 label  \n",
       "0    [1, 1, 1, 1, 1, 1, 1, 1, 1, 1, 1, 1, 1, 1, 1, ...  \n",
       "1    [1, 1, 1, 1, 1, 1, 1, 0, 1, 1, 1, 1, 1, 1, 1, ...  \n",
       "2    [1, 1, 1, 1, 1, 1, 1, 1, 1, 1, 1, 1, 1, 1, 1, ...  \n",
       "3    [1, 1, 1, 1, 1, 1, 1, 1, 1, 1, 1, 1, 1, 1, 1, ...  \n",
       "4    [1, 1, 1, 1, 1, 1, 1, 1, 1, 1, 1, 1, 1, 1, 1, ...  \n",
       "..                                                 ...  \n",
       "265  [1, 1, 1, 1, 1, 1, 1, 1, 1, 1, 1, 1, 1, 1, 1, ...  \n",
       "266  [1, 1, 1, 1, 1, 1, 1, 1, 1, 1, 1, 1, 1, 1, 1, ...  \n",
       "267  [1, 1, 1, 1, 1, 1, 1, 1, 1, 1, 1, 1, 1, 1, 1, ...  \n",
       "268  [1, 1, 1, 1, 1, 1, 1, 1, 1, 1, 0, 1, 1, 1, 1, ...  \n",
       "269  [1, 1, 1, 1, 1, 1, 1, 1, 1, 1, 1, 1, 0, 0, 1, ...  \n",
       "\n",
       "[270 rows x 2 columns]"
      ]
     },
     "execution_count": 112,
     "metadata": {},
     "output_type": "execute_result"
    }
   ],
   "source": [
    "raw = pd.read_csv('./datas/review_list_label.csv')"
   ]
  },
  {
   "cell_type": "code",
   "execution_count": 23,
   "metadata": {
    "execution": {
     "iopub.execute_input": "2024-06-07T05:44:17.594132Z",
     "iopub.status.busy": "2024-06-07T05:44:17.593134Z",
     "iopub.status.idle": "2024-06-07T05:44:17.627044Z",
     "shell.execute_reply": "2024-06-07T05:44:17.627044Z",
     "shell.execute_reply.started": "2024-06-07T05:44:17.594132Z"
    }
   },
   "outputs": [],
   "source": [
    "raw = pd.read_csv('./datas/review_list_label.csv')\n",
    "df = raw.copy()"
   ]
  },
  {
   "cell_type": "code",
   "execution_count": 24,
   "metadata": {
    "execution": {
     "iopub.execute_input": "2024-06-07T05:44:18.065377Z",
     "iopub.status.busy": "2024-06-07T05:44:18.065377Z",
     "iopub.status.idle": "2024-06-07T05:44:18.081335Z",
     "shell.execute_reply": "2024-06-07T05:44:18.080338Z",
     "shell.execute_reply.started": "2024-06-07T05:44:18.065377Z"
    }
   },
   "outputs": [
    {
     "data": {
      "text/html": [
       "<div>\n",
       "<style scoped>\n",
       "    .dataframe tbody tr th:only-of-type {\n",
       "        vertical-align: middle;\n",
       "    }\n",
       "\n",
       "    .dataframe tbody tr th {\n",
       "        vertical-align: top;\n",
       "    }\n",
       "\n",
       "    .dataframe thead th {\n",
       "        text-align: right;\n",
       "    }\n",
       "</style>\n",
       "<table border=\"1\" class=\"dataframe\">\n",
       "  <thead>\n",
       "    <tr style=\"text-align: right;\">\n",
       "      <th></th>\n",
       "      <th>review_list</th>\n",
       "      <th>label</th>\n",
       "    </tr>\n",
       "  </thead>\n",
       "  <tbody>\n",
       "    <tr>\n",
       "      <th>0</th>\n",
       "      <td>['배송은 생각보다 빨리도착했네요 손목 스트랩 1쌍~레드 디자인 이쁘고 마감처리 깔...</td>\n",
       "      <td>[1, 1, 1, 1, 1, 1, 1, 1, 1, 1, 1, 1, 1, 1, 1, ...</td>\n",
       "    </tr>\n",
       "    <tr>\n",
       "      <th>1</th>\n",
       "      <td>['감사합니다', '지퍼 손잡이 매듭용으로 좋습니다', '잘받았습니다 잘받았습니다'...</td>\n",
       "      <td>[1, 1, 1, 1, 1, 1, 1, 0, 1, 1, 1, 1, 1, 1, 1, ...</td>\n",
       "    </tr>\n",
       "    <tr>\n",
       "      <th>2</th>\n",
       "      <td>['뭔 배송하면서 바닷물에 담궈서 가져오냐? 쓰기도 전에 녹슬어서 오는 메이드인 차...</td>\n",
       "      <td>[1, 1, 1, 1, 1, 1, 1, 1, 1, 1, 1, 1, 1, 1, 1, ...</td>\n",
       "    </tr>\n",
       "    <tr>\n",
       "      <th>3</th>\n",
       "      <td>['생각보다 너무괜찮은데요? 후기좋은 이유가있엇네요 불판도생각보다 두껍고튼튼한듯ㅎ ...</td>\n",
       "      <td>[1, 1, 1, 1, 1, 1, 1, 1, 1, 1, 1, 1, 1, 1, 1, ...</td>\n",
       "    </tr>\n",
       "    <tr>\n",
       "      <th>4</th>\n",
       "      <td>['잘받았습니다', '좋아요 가격대비 만족합니다', '진짜 빨리받앗어요. 일주일??...</td>\n",
       "      <td>[1, 1, 1, 1, 1, 1, 1, 1, 1, 1, 1, 1, 1, 1, 1, ...</td>\n",
       "    </tr>\n",
       "  </tbody>\n",
       "</table>\n",
       "</div>"
      ],
      "text/plain": [
       "                                         review_list  \\\n",
       "0  ['배송은 생각보다 빨리도착했네요 손목 스트랩 1쌍~레드 디자인 이쁘고 마감처리 깔...   \n",
       "1  ['감사합니다', '지퍼 손잡이 매듭용으로 좋습니다', '잘받았습니다 잘받았습니다'...   \n",
       "2  ['뭔 배송하면서 바닷물에 담궈서 가져오냐? 쓰기도 전에 녹슬어서 오는 메이드인 차...   \n",
       "3  ['생각보다 너무괜찮은데요? 후기좋은 이유가있엇네요 불판도생각보다 두껍고튼튼한듯ㅎ ...   \n",
       "4  ['잘받았습니다', '좋아요 가격대비 만족합니다', '진짜 빨리받앗어요. 일주일??...   \n",
       "\n",
       "                                               label  \n",
       "0  [1, 1, 1, 1, 1, 1, 1, 1, 1, 1, 1, 1, 1, 1, 1, ...  \n",
       "1  [1, 1, 1, 1, 1, 1, 1, 0, 1, 1, 1, 1, 1, 1, 1, ...  \n",
       "2  [1, 1, 1, 1, 1, 1, 1, 1, 1, 1, 1, 1, 1, 1, 1, ...  \n",
       "3  [1, 1, 1, 1, 1, 1, 1, 1, 1, 1, 1, 1, 1, 1, 1, ...  \n",
       "4  [1, 1, 1, 1, 1, 1, 1, 1, 1, 1, 1, 1, 1, 1, 1, ...  "
      ]
     },
     "execution_count": 24,
     "metadata": {},
     "output_type": "execute_result"
    }
   ],
   "source": [
    "df.head()"
   ]
  },
  {
   "cell_type": "code",
   "execution_count": 25,
   "metadata": {
    "execution": {
     "iopub.execute_input": "2024-06-07T05:44:19.289782Z",
     "iopub.status.busy": "2024-06-07T05:44:19.288784Z",
     "iopub.status.idle": "2024-06-07T05:44:19.307734Z",
     "shell.execute_reply": "2024-06-07T05:44:19.306737Z",
     "shell.execute_reply.started": "2024-06-07T05:44:19.289782Z"
    },
    "scrolled": true
   },
   "outputs": [
    {
     "data": {
      "text/plain": [
       "\"['감사합니다', '지퍼 손잡이 매듭용으로 좋습니다', '잘받았습니다 잘받았습니다', '이색인줄은 몰랐는데 굳', '혹시나 텐션이 조금은 있을 줄 알았는데 텐션은 전혀없고 그냥... 얇은 ... 나쁘지는 않아요 나름 다용도 있게 쓸 수 있을거 같아요', '약간 미끌미끌거리긴 하는데 그래도 길이도 길고 마음에 듭니다 좋아요', '아주조아요', '빠른배송 감사합니다', '많은양', '굳', '굳']\""
      ]
     },
     "execution_count": 25,
     "metadata": {},
     "output_type": "execute_result"
    }
   ],
   "source": [
    "df.review_list[1]"
   ]
  },
  {
   "cell_type": "code",
   "execution_count": 26,
   "metadata": {
    "execution": {
     "iopub.execute_input": "2024-06-07T05:44:21.345771Z",
     "iopub.status.busy": "2024-06-07T05:44:21.345771Z",
     "iopub.status.idle": "2024-06-07T05:44:21.365744Z",
     "shell.execute_reply": "2024-06-07T05:44:21.365744Z",
     "shell.execute_reply.started": "2024-06-07T05:44:21.345771Z"
    },
    "scrolled": true
   },
   "outputs": [
    {
     "data": {
      "text/plain": [
       "'[1, 1, 1, 1, 1, 1, 1, 0, 1, 1, 1, 1, 1, 1, 1, 1, 1, 1, 1, 1, 1, 1, 1, 1, 1, 1, 1, 1, 1, 1, 1, 1, 1, 1, 1, 1, 1, 1, 1, 1, 1, 1, 1]'"
      ]
     },
     "execution_count": 26,
     "metadata": {},
     "output_type": "execute_result"
    }
   ],
   "source": [
    "df.label[1]"
   ]
  },
  {
   "cell_type": "code",
   "execution_count": 27,
   "metadata": {
    "execution": {
     "iopub.execute_input": "2024-06-07T05:44:23.834157Z",
     "iopub.status.busy": "2024-06-07T05:44:23.834157Z",
     "iopub.status.idle": "2024-06-07T05:44:23.848120Z",
     "shell.execute_reply": "2024-06-07T05:44:23.847149Z",
     "shell.execute_reply.started": "2024-06-07T05:44:23.834157Z"
    },
    "scrolled": true
   },
   "outputs": [
    {
     "name": "stdout",
     "output_type": "stream",
     "text": [
      "1371 129\n",
      "222 129\n",
      "5112 129\n",
      "10104 129\n",
      "256 129\n",
      "167 129\n",
      "417 129\n",
      "1114 129\n",
      "45 129\n",
      "1082 135\n",
      "1673 141\n",
      "1164 129\n",
      "69 129\n",
      "959 129\n",
      "49 156\n",
      "93 129\n",
      "41 132\n",
      "113 129\n",
      "294 129\n",
      "2588 174\n",
      "68 129\n",
      "134 129\n",
      "7 129\n",
      "698 129\n",
      "1192 138\n",
      "2828 132\n",
      "5029 135\n",
      "4241 135\n",
      "2300 141\n",
      "2211 147\n",
      "224 129\n",
      "1195 129\n",
      "24 129\n",
      "3858 129\n",
      "172 129\n",
      "24 129\n",
      "594 129\n",
      "3552 165\n",
      "124 129\n",
      "846 129\n",
      "59 129\n",
      "2127 165\n",
      "311 129\n",
      "1702 150\n",
      "51 129\n",
      "1468 132\n",
      "312 129\n",
      "425 129\n",
      "466 129\n",
      "180 132\n",
      "1339 147\n",
      "350 129\n",
      "109 129\n",
      "1280 144\n",
      "42 129\n",
      "22 129\n",
      "197 129\n",
      "2177 129\n",
      "4633 72\n",
      "1558 129\n",
      "1355 129\n",
      "2581 129\n",
      "1097 78\n",
      "2050 78\n",
      "184 108\n",
      "684 129\n",
      "2579 129\n",
      "2817 141\n",
      "6705 129\n",
      "2143 78\n",
      "2805 75\n",
      "1264 153\n",
      "653 69\n",
      "1855 129\n",
      "156 69\n",
      "150 129\n",
      "2368 129\n",
      "1732 129\n",
      "750 129\n",
      "162 129\n",
      "3735 75\n",
      "2564 129\n",
      "33460 138\n",
      "89 129\n",
      "103 129\n",
      "1425 165\n",
      "5950 135\n",
      "1516 129\n",
      "11854 144\n",
      "3818 135\n",
      "68 129\n",
      "143 129\n",
      "2065 150\n",
      "4022 141\n",
      "2926 156\n",
      "3675 141\n",
      "91 129\n",
      "3498 156\n",
      "15440 141\n",
      "1510 141\n",
      "566 129\n",
      "434 129\n",
      "3904 138\n",
      "228 129\n",
      "605 129\n",
      "599 129\n",
      "2167 129\n",
      "233 129\n",
      "3786 162\n",
      "2795 159\n",
      "46 132\n",
      "56 129\n",
      "86 129\n",
      "383 129\n",
      "598 129\n",
      "20469 168\n",
      "800 129\n",
      "954 144\n",
      "119 129\n",
      "282 129\n",
      "560 129\n",
      "17466 141\n",
      "2629 141\n",
      "1040 129\n",
      "683 129\n",
      "28 132\n",
      "712 129\n",
      "1817 129\n",
      "3467 147\n",
      "279 129\n",
      "174 129\n",
      "2017 141\n",
      "403 129\n",
      "18001 162\n",
      "479 129\n",
      "1642 132\n",
      "188 129\n",
      "1227 129\n",
      "3775 135\n",
      "5538 147\n",
      "939 129\n",
      "19275 150\n",
      "2543 150\n",
      "910 129\n",
      "86 129\n",
      "1635 129\n",
      "12236 132\n",
      "4286 147\n",
      "244 129\n",
      "1702 141\n",
      "14 129\n",
      "3663 168\n",
      "6171 150\n",
      "6420 132\n",
      "5435 150\n",
      "10 129\n",
      "11477 141\n",
      "591 129\n",
      "1682 147\n",
      "2137 156\n",
      "152 129\n",
      "195 132\n",
      "1029 129\n",
      "1328 144\n",
      "3386 150\n",
      "5844 129\n",
      "420 129\n",
      "1755 141\n",
      "13829 132\n",
      "3354 168\n",
      "53 129\n",
      "591 129\n",
      "1481 147\n",
      "411 129\n",
      "3229 171\n",
      "25 129\n",
      "323 129\n",
      "2723 132\n",
      "227 129\n",
      "2633 69\n",
      "1059 129\n",
      "99 129\n",
      "1107 129\n",
      "4283 132\n",
      "111 129\n",
      "2024 132\n",
      "7099 129\n",
      "34 129\n",
      "1173 129\n",
      "442 129\n",
      "4877 159\n",
      "76 129\n",
      "32 129\n",
      "1808 165\n",
      "6251 129\n",
      "4079 138\n",
      "6134 129\n",
      "332 129\n",
      "678 129\n",
      "7856 135\n",
      "4730 132\n",
      "447 129\n",
      "5183 150\n",
      "1618 153\n",
      "395 69\n",
      "1060 129\n",
      "165 129\n",
      "6921 132\n",
      "9 129\n",
      "309 135\n",
      "143 129\n",
      "88 129\n",
      "3835 132\n",
      "88 129\n",
      "1994 129\n",
      "75 129\n",
      "149 129\n",
      "243 129\n",
      "35 129\n",
      "5311 144\n",
      "1793 183\n",
      "2485 135\n",
      "1035 129\n",
      "3211 132\n",
      "8199 129\n",
      "633 129\n",
      "1548 129\n",
      "710 129\n",
      "1586 156\n",
      "857 141\n",
      "784 129\n",
      "858 129\n",
      "394 129\n",
      "928 129\n",
      "458 138\n",
      "360 129\n",
      "1451 159\n",
      "502 129\n",
      "172 129\n",
      "9129 144\n",
      "72 129\n",
      "948 132\n",
      "864 129\n",
      "2406 129\n",
      "751 129\n",
      "107 129\n",
      "2764 144\n",
      "3052 150\n",
      "1307 129\n",
      "42 129\n",
      "231 129\n",
      "24 129\n",
      "2495 150\n",
      "1058 171\n",
      "1053 129\n",
      "1294 129\n",
      "868 129\n",
      "2685 141\n",
      "277 129\n",
      "4565 132\n",
      "91 129\n",
      "120 129\n",
      "2507 147\n",
      "863 129\n",
      "408 129\n",
      "4793 132\n",
      "2551 147\n",
      "10718 129\n",
      "1426 129\n",
      "307 129\n"
     ]
    }
   ],
   "source": [
    "for i in range(len(df['review_list'])):\n",
    "    print(len(df['review_list'][i]), len(df['label'][i]))"
   ]
  },
  {
   "cell_type": "code",
   "execution_count": 28,
   "metadata": {
    "execution": {
     "iopub.execute_input": "2024-06-07T05:44:26.128797Z",
     "iopub.status.busy": "2024-06-07T05:44:26.128797Z",
     "iopub.status.idle": "2024-06-07T05:44:26.144755Z",
     "shell.execute_reply": "2024-06-07T05:44:26.143756Z",
     "shell.execute_reply.started": "2024-06-07T05:44:26.128797Z"
    }
   },
   "outputs": [],
   "source": [
    "# 댓글들 각각에 인덱스를 부여하는 작업\n",
    "# 이 작업을 통해서 각 댓글의 긍정, 부정을 라벨링 할 것임\n",
    "\n",
    "def split_review(review):\n",
    "    return list(map(str, review.split(',')))\n",
    "\n",
    "# review_list 컬럼을 만들어 댓글들을 인덱스 번호 하나하나에 배치\n",
    "df['review_list'] = df['review_list'].apply(split_review)"
   ]
  },
  {
   "cell_type": "code",
   "execution_count": 29,
   "metadata": {
    "execution": {
     "iopub.execute_input": "2024-06-07T05:44:28.433707Z",
     "iopub.status.busy": "2024-06-07T05:44:28.433707Z",
     "iopub.status.idle": "2024-06-07T05:44:28.451686Z",
     "shell.execute_reply": "2024-06-07T05:44:28.451686Z",
     "shell.execute_reply.started": "2024-06-07T05:44:28.433707Z"
    }
   },
   "outputs": [],
   "source": [
    "# ㅆㅂㄹ 라벨도 쉼표로 다 ... 되어 있어서 이것도 짤라서 리스트에 넣어야 해...\n",
    "# 점수들 각각에 인덱스를 부여하는 작업\n",
    "# 이 작업을 통해서 각 댓글에 옆에 해당 댓글의 점수를 붙일거임\n",
    "\n",
    "import re\n",
    "import pandas as pd\n",
    "\n",
    "def split_score(score):\n",
    "    numbers = re.findall(r'\\d+', score)\n",
    "    return list(map(int, numbers))\n",
    "\n",
    "# 예제 데이터프레임 생성\n",
    "#data = {'label': [\"[1, 1, 1, 1, 1, 1, 1, 1, 1, 1, 1, 1, 1, 1, 1, 1, 1, 1, 1, 1, 1, 1, 1, 1, 1, 1, 1, 1, 1, 1, 1, 1, 1, 0, 1, 1, 1, 0, 0, 0, 1, 1, 1]\"]}\n",
    "#df = pd.DataFrame(data)\n",
    "\n",
    "# 'label' 컬럼에 대해 split_score 함수 적용\n",
    "df['label'] = df['label'].apply(split_score)\n",
    "\n"
   ]
  },
  {
   "cell_type": "code",
   "execution_count": 30,
   "metadata": {
    "execution": {
     "iopub.execute_input": "2024-06-07T05:44:30.266009Z",
     "iopub.status.busy": "2024-06-07T05:44:30.266009Z",
     "iopub.status.idle": "2024-06-07T05:44:30.279972Z",
     "shell.execute_reply": "2024-06-07T05:44:30.278975Z",
     "shell.execute_reply.started": "2024-06-07T05:44:30.266009Z"
    }
   },
   "outputs": [
    {
     "data": {
      "text/html": [
       "<div>\n",
       "<style scoped>\n",
       "    .dataframe tbody tr th:only-of-type {\n",
       "        vertical-align: middle;\n",
       "    }\n",
       "\n",
       "    .dataframe tbody tr th {\n",
       "        vertical-align: top;\n",
       "    }\n",
       "\n",
       "    .dataframe thead th {\n",
       "        text-align: right;\n",
       "    }\n",
       "</style>\n",
       "<table border=\"1\" class=\"dataframe\">\n",
       "  <thead>\n",
       "    <tr style=\"text-align: right;\">\n",
       "      <th></th>\n",
       "      <th>review_list</th>\n",
       "      <th>label</th>\n",
       "    </tr>\n",
       "  </thead>\n",
       "  <tbody>\n",
       "    <tr>\n",
       "      <th>0</th>\n",
       "      <td>[['배송은 생각보다 빨리도착했네요 손목 스트랩 1쌍~레드 디자인 이쁘고 마감처리 ...</td>\n",
       "      <td>[1, 1, 1, 1, 1, 1, 1, 1, 1, 1, 1, 1, 1, 1, 1, ...</td>\n",
       "    </tr>\n",
       "    <tr>\n",
       "      <th>1</th>\n",
       "      <td>[['감사합니다',  '지퍼 손잡이 매듭용으로 좋습니다',  '잘받았습니다 잘받았습...</td>\n",
       "      <td>[1, 1, 1, 1, 1, 1, 1, 0, 1, 1, 1, 1, 1, 1, 1, ...</td>\n",
       "    </tr>\n",
       "    <tr>\n",
       "      <th>2</th>\n",
       "      <td>[['뭔 배송하면서 바닷물에 담궈서 가져오냐? 쓰기도 전에 녹슬어서 오는 메이드인 ...</td>\n",
       "      <td>[1, 1, 1, 1, 1, 1, 1, 1, 1, 1, 1, 1, 1, 1, 1, ...</td>\n",
       "    </tr>\n",
       "    <tr>\n",
       "      <th>3</th>\n",
       "      <td>[['생각보다 너무괜찮은데요? 후기좋은 이유가있엇네요 불판도생각보다 두껍고튼튼한듯ㅎ...</td>\n",
       "      <td>[1, 1, 1, 1, 1, 1, 1, 1, 1, 1, 1, 1, 1, 1, 1, ...</td>\n",
       "    </tr>\n",
       "    <tr>\n",
       "      <th>4</th>\n",
       "      <td>[['잘받았습니다',  '좋아요 가격대비 만족합니다',  '진짜 빨리받앗어요. 일주...</td>\n",
       "      <td>[1, 1, 1, 1, 1, 1, 1, 1, 1, 1, 1, 1, 1, 1, 1, ...</td>\n",
       "    </tr>\n",
       "  </tbody>\n",
       "</table>\n",
       "</div>"
      ],
      "text/plain": [
       "                                         review_list  \\\n",
       "0  [['배송은 생각보다 빨리도착했네요 손목 스트랩 1쌍~레드 디자인 이쁘고 마감처리 ...   \n",
       "1  [['감사합니다',  '지퍼 손잡이 매듭용으로 좋습니다',  '잘받았습니다 잘받았습...   \n",
       "2  [['뭔 배송하면서 바닷물에 담궈서 가져오냐? 쓰기도 전에 녹슬어서 오는 메이드인 ...   \n",
       "3  [['생각보다 너무괜찮은데요? 후기좋은 이유가있엇네요 불판도생각보다 두껍고튼튼한듯ㅎ...   \n",
       "4  [['잘받았습니다',  '좋아요 가격대비 만족합니다',  '진짜 빨리받앗어요. 일주...   \n",
       "\n",
       "                                               label  \n",
       "0  [1, 1, 1, 1, 1, 1, 1, 1, 1, 1, 1, 1, 1, 1, 1, ...  \n",
       "1  [1, 1, 1, 1, 1, 1, 1, 0, 1, 1, 1, 1, 1, 1, 1, ...  \n",
       "2  [1, 1, 1, 1, 1, 1, 1, 1, 1, 1, 1, 1, 1, 1, 1, ...  \n",
       "3  [1, 1, 1, 1, 1, 1, 1, 1, 1, 1, 1, 1, 1, 1, 1, ...  \n",
       "4  [1, 1, 1, 1, 1, 1, 1, 1, 1, 1, 1, 1, 1, 1, 1, ...  "
      ]
     },
     "execution_count": 30,
     "metadata": {},
     "output_type": "execute_result"
    }
   ],
   "source": [
    "df.head()"
   ]
  },
  {
   "cell_type": "code",
   "execution_count": 31,
   "metadata": {
    "execution": {
     "iopub.execute_input": "2024-06-07T05:44:32.570194Z",
     "iopub.status.busy": "2024-06-07T05:44:32.569196Z",
     "iopub.status.idle": "2024-06-07T05:44:32.581165Z",
     "shell.execute_reply": "2024-06-07T05:44:32.580167Z",
     "shell.execute_reply.started": "2024-06-07T05:44:32.570194Z"
    }
   },
   "outputs": [
    {
     "data": {
      "text/plain": [
       "0      [['배송은 생각보다 빨리도착했네요 손목 스트랩 1쌍~레드 디자인 이쁘고 마감처리 ...\n",
       "1      [['감사합니다',  '지퍼 손잡이 매듭용으로 좋습니다',  '잘받았습니다 잘받았습...\n",
       "2      [['뭔 배송하면서 바닷물에 담궈서 가져오냐? 쓰기도 전에 녹슬어서 오는 메이드인 ...\n",
       "3      [['생각보다 너무괜찮은데요? 후기좋은 이유가있엇네요 불판도생각보다 두껍고튼튼한듯ㅎ...\n",
       "4      [['잘받았습니다',  '좋아요 가격대비 만족합니다',  '진짜 빨리받앗어요. 일주...\n",
       "                             ...                        \n",
       "265    [['접착력이 약하다는말이 있어서 고민되었는데 싸서 한번사봤는데 너무 너무 짱짱하고...\n",
       "266    [['케이블이 두껍네요. 고속충전 잘 됩니다.',  '괜찮네요 120w까지 되는지 ...\n",
       "267    [['택배 수령 이후 매일 사용해 보았습니다. 성능도 충분하고 발열문제도 없이 안정...\n",
       "268    [['검은화면 뛰어보니 올레드 패널은 아닌거같은데 그거말곤 정품이랑 다 같네요 좋습...\n",
       "269    [['상품이 좋습니다',  '만족합니다. 추천합니다',  '감사합니다 잘 쓰겠습니다...\n",
       "Name: review_list, Length: 270, dtype: object"
      ]
     },
     "execution_count": 31,
     "metadata": {},
     "output_type": "execute_result"
    }
   ],
   "source": [
    "df['review_list']"
   ]
  },
  {
   "cell_type": "code",
   "execution_count": 32,
   "metadata": {
    "execution": {
     "iopub.execute_input": "2024-06-07T05:44:35.066072Z",
     "iopub.status.busy": "2024-06-07T05:44:35.065074Z",
     "iopub.status.idle": "2024-06-07T05:44:35.082053Z",
     "shell.execute_reply": "2024-06-07T05:44:35.082053Z",
     "shell.execute_reply.started": "2024-06-07T05:44:35.066072Z"
    }
   },
   "outputs": [],
   "source": [
    "# 새로운 데이터프레임에 저장할 리스트 초기화\n",
    "expanded_reviews = []\n",
    "\n",
    "for i in range(len(df['review_list'])):  # 기존 데이터프레임의 각 행에 대해\n",
    "    for review in df['review_list'][i]: # 각 리뷰 리스트의 리뷰에 대해all\n",
    "        expanded_reviews.append(review)"
   ]
  },
  {
   "cell_type": "code",
   "execution_count": 33,
   "metadata": {
    "execution": {
     "iopub.execute_input": "2024-06-07T05:44:37.187086Z",
     "iopub.status.busy": "2024-06-07T05:44:37.186090Z",
     "iopub.status.idle": "2024-06-07T05:44:37.194068Z",
     "shell.execute_reply": "2024-06-07T05:44:37.194068Z",
     "shell.execute_reply.started": "2024-06-07T05:44:37.187086Z"
    },
    "scrolled": true
   },
   "outputs": [
    {
     "data": {
      "text/plain": [
       "list"
      ]
     },
     "execution_count": 33,
     "metadata": {},
     "output_type": "execute_result"
    }
   ],
   "source": [
    "type(expanded_reviews)"
   ]
  },
  {
   "cell_type": "code",
   "execution_count": 34,
   "metadata": {
    "execution": {
     "iopub.execute_input": "2024-06-07T05:44:39.401602Z",
     "iopub.status.busy": "2024-06-07T05:44:39.401602Z",
     "iopub.status.idle": "2024-06-07T05:44:39.412572Z",
     "shell.execute_reply": "2024-06-07T05:44:39.411575Z",
     "shell.execute_reply.started": "2024-06-07T05:44:39.401602Z"
    }
   },
   "outputs": [
    {
     "data": {
      "text/plain": [
       "0      [1, 1, 1, 1, 1, 1, 1, 1, 1, 1, 1, 1, 1, 1, 1, ...\n",
       "1      [1, 1, 1, 1, 1, 1, 1, 0, 1, 1, 1, 1, 1, 1, 1, ...\n",
       "2      [1, 1, 1, 1, 1, 1, 1, 1, 1, 1, 1, 1, 1, 1, 1, ...\n",
       "3      [1, 1, 1, 1, 1, 1, 1, 1, 1, 1, 1, 1, 1, 1, 1, ...\n",
       "4      [1, 1, 1, 1, 1, 1, 1, 1, 1, 1, 1, 1, 1, 1, 1, ...\n",
       "                             ...                        \n",
       "265    [1, 1, 1, 1, 1, 1, 1, 1, 1, 1, 1, 1, 1, 1, 1, ...\n",
       "266    [1, 1, 1, 1, 1, 1, 1, 1, 1, 1, 1, 1, 1, 1, 1, ...\n",
       "267    [1, 1, 1, 1, 1, 1, 1, 1, 1, 1, 1, 1, 1, 1, 1, ...\n",
       "268    [1, 1, 1, 1, 1, 1, 1, 1, 1, 1, 0, 1, 1, 1, 1, ...\n",
       "269    [1, 1, 1, 1, 1, 1, 1, 1, 1, 1, 1, 1, 0, 0, 1, ...\n",
       "Name: label, Length: 270, dtype: object"
      ]
     },
     "execution_count": 34,
     "metadata": {},
     "output_type": "execute_result"
    }
   ],
   "source": [
    "df['label']"
   ]
  },
  {
   "cell_type": "code",
   "execution_count": 35,
   "metadata": {
    "execution": {
     "iopub.execute_input": "2024-06-07T05:44:41.570481Z",
     "iopub.status.busy": "2024-06-07T05:44:41.569491Z",
     "iopub.status.idle": "2024-06-07T05:44:41.580447Z",
     "shell.execute_reply": "2024-06-07T05:44:41.580447Z",
     "shell.execute_reply.started": "2024-06-07T05:44:41.570481Z"
    }
   },
   "outputs": [],
   "source": [
    "# 새로운 데이터프레임에 저장할 리스트 초기화\n",
    "expanded_label = []\n",
    "\n",
    "for i in range(len(df['label'])):  # 기존 데이터프레임의 각 행에 대해\n",
    "    for label in df['label'][i]: # 각 리뷰 리스트의 리뷰에 대해all\n",
    "        expanded_label.append(label)"
   ]
  },
  {
   "cell_type": "code",
   "execution_count": 36,
   "metadata": {
    "execution": {
     "iopub.execute_input": "2024-06-07T05:44:42.905966Z",
     "iopub.status.busy": "2024-06-07T05:44:42.904978Z",
     "iopub.status.idle": "2024-06-07T05:44:42.919929Z",
     "shell.execute_reply": "2024-06-07T05:44:42.918932Z",
     "shell.execute_reply.started": "2024-06-07T05:44:42.905966Z"
    },
    "scrolled": true
   },
   "outputs": [
    {
     "data": {
      "text/plain": [
       "(11951, 15399)"
      ]
     },
     "execution_count": 36,
     "metadata": {},
     "output_type": "execute_result"
    }
   ],
   "source": [
    "len(expanded_label), len(expanded_reviews)"
   ]
  },
  {
   "cell_type": "code",
   "execution_count": 37,
   "metadata": {
    "execution": {
     "iopub.execute_input": "2024-06-07T05:44:43.977016Z",
     "iopub.status.busy": "2024-06-07T05:44:43.977016Z",
     "iopub.status.idle": "2024-06-07T05:44:43.989005Z",
     "shell.execute_reply": "2024-06-07T05:44:43.988013Z",
     "shell.execute_reply.started": "2024-06-07T05:44:43.977016Z"
    },
    "scrolled": true
   },
   "outputs": [],
   "source": [
    "df_reviews = pd.DataFrame({'reviews' : expanded_reviews})"
   ]
  },
  {
   "cell_type": "code",
   "execution_count": 38,
   "metadata": {
    "execution": {
     "iopub.execute_input": "2024-06-07T05:44:46.240869Z",
     "iopub.status.busy": "2024-06-07T05:44:46.240869Z",
     "iopub.status.idle": "2024-06-07T05:44:46.249844Z",
     "shell.execute_reply": "2024-06-07T05:44:46.248846Z",
     "shell.execute_reply.started": "2024-06-07T05:44:46.240869Z"
    }
   },
   "outputs": [],
   "source": [
    "df_label = pd.DataFrame({'label' : expanded_label})"
   ]
  },
  {
   "cell_type": "code",
   "execution_count": 39,
   "metadata": {
    "execution": {
     "iopub.execute_input": "2024-06-07T05:44:48.178081Z",
     "iopub.status.busy": "2024-06-07T05:44:48.177056Z",
     "iopub.status.idle": "2024-06-07T05:44:48.196006Z",
     "shell.execute_reply": "2024-06-07T05:44:48.195008Z",
     "shell.execute_reply.started": "2024-06-07T05:44:48.178081Z"
    }
   },
   "outputs": [
    {
     "data": {
      "text/plain": [
       "\"['배송은 생각보다 빨리도착했네요 손목 스트랩 1쌍~레드 디자인 이쁘고 마감처리 깔끔하고 스트랩 로고처리로 고급져보이네요 스트랩에 미끄럽지 않게 미끄렁방지 처리까지 되어있네요 저렴하게 구매할수 있어 정말 만족합니다 강력 추천하고 싶네요 ㅋ'\""
      ]
     },
     "execution_count": 39,
     "metadata": {},
     "output_type": "execute_result"
    }
   ],
   "source": [
    "df_reviews['reviews'][0]"
   ]
  },
  {
   "cell_type": "code",
   "execution_count": 40,
   "metadata": {
    "execution": {
     "iopub.execute_input": "2024-06-07T05:44:51.938233Z",
     "iopub.status.busy": "2024-06-07T05:44:51.937236Z",
     "iopub.status.idle": "2024-06-07T05:44:51.984086Z",
     "shell.execute_reply": "2024-06-07T05:44:51.984086Z",
     "shell.execute_reply.started": "2024-06-07T05:44:51.938233Z"
    }
   },
   "outputs": [],
   "source": [
    "df_reviews.to_csv('df_reviews.csv', index = False, encoding = 'utf-8')"
   ]
  },
  {
   "cell_type": "code",
   "execution_count": 318,
   "metadata": {
    "execution": {
     "iopub.execute_input": "2024-06-06T16:21:23.450381Z",
     "iopub.status.busy": "2024-06-06T16:21:23.449386Z",
     "iopub.status.idle": "2024-06-06T16:21:23.463347Z",
     "shell.execute_reply": "2024-06-06T16:21:23.463347Z",
     "shell.execute_reply.started": "2024-06-06T16:21:23.450381Z"
    }
   },
   "outputs": [
    {
     "data": {
      "text/plain": [
       "1"
      ]
     },
     "execution_count": 318,
     "metadata": {},
     "output_type": "execute_result"
    }
   ],
   "source": [
    "df_label['label'][2]"
   ]
  },
  {
   "cell_type": "code",
   "execution_count": null,
   "metadata": {},
   "outputs": [],
   "source": [
    "# 따로 나눈 이유는 \n",
    "# len(expanded_label), len(expanded_reviews)\n",
    "# (11951, 15399)\n",
    "# 주어진 데이타에 결측값이 너무나 많아서\n",
    "# 하지만 우리에게 중요한 것은 댓글이고 그것을 통해 긍정 부정 만들 수 있다\n",
    "# 그래서 일단 두가지의 df를 만들어 놨다.\n",
    "# df_reviews, df_label"
   ]
  },
  {
   "cell_type": "code",
   "execution_count": 319,
   "metadata": {
    "colab": {
     "base_uri": "https://localhost:8080/",
     "height": 143
    },
    "execution": {
     "iopub.execute_input": "2024-06-06T16:23:28.345720Z",
     "iopub.status.busy": "2024-06-06T16:23:28.345720Z",
     "iopub.status.idle": "2024-06-06T16:23:28.430997Z",
     "shell.execute_reply": "2024-06-06T16:23:28.429985Z",
     "shell.execute_reply.started": "2024-06-06T16:23:28.345720Z"
    },
    "id": "Uo6-uUbEBT56",
    "outputId": "7ec134dc-c327-4b16-a551-5eecaea596aa"
   },
   "outputs": [
    {
     "data": {
      "text/html": [
       "<div>\n",
       "<style scoped>\n",
       "    .dataframe tbody tr th:only-of-type {\n",
       "        vertical-align: middle;\n",
       "    }\n",
       "\n",
       "    .dataframe tbody tr th {\n",
       "        vertical-align: top;\n",
       "    }\n",
       "\n",
       "    .dataframe thead th {\n",
       "        text-align: right;\n",
       "    }\n",
       "</style>\n",
       "<table border=\"1\" class=\"dataframe\">\n",
       "  <thead>\n",
       "    <tr style=\"text-align: right;\">\n",
       "      <th></th>\n",
       "      <th>reviews</th>\n",
       "    </tr>\n",
       "  </thead>\n",
       "  <tbody>\n",
       "    <tr>\n",
       "      <th>0</th>\n",
       "      <td>배송은 생각보다 빨리도착했네요 손목 스트랩 쌍 레드 디자인 이쁘고 마감처리 깔끔하...</td>\n",
       "    </tr>\n",
       "    <tr>\n",
       "      <th>1</th>\n",
       "      <td>배송 빠르고 색상 디자인 마감처리 깔끔하니 가성비 좋아요 만족합니다 강력 추천 ㅋ</td>\n",
       "    </tr>\n",
       "    <tr>\n",
       "      <th>2</th>\n",
       "      <td>정말 좋습니다 기대이상인듯 만원대 나 의 리프팅 스트랩에 비교해도 기능성으로는 전...</td>\n",
       "    </tr>\n",
       "  </tbody>\n",
       "</table>\n",
       "</div>"
      ],
      "text/plain": [
       "                                             reviews\n",
       "0   배송은 생각보다 빨리도착했네요 손목 스트랩 쌍 레드 디자인 이쁘고 마감처리 깔끔하...\n",
       "1     배송 빠르고 색상 디자인 마감처리 깔끔하니 가성비 좋아요 만족합니다 강력 추천 ㅋ \n",
       "2   정말 좋습니다 기대이상인듯 만원대 나 의 리프팅 스트랩에 비교해도 기능성으로는 전..."
      ]
     },
     "execution_count": 319,
     "metadata": {},
     "output_type": "execute_result"
    }
   ],
   "source": [
    "df_reviews['reviews'] = df_reviews['reviews'].apply(lambda x : re.sub(r'[^ㄱ-ㅣ가-힣]+', ' ', x ))\n",
    "df_reviews.head(3)"
   ]
  },
  {
   "cell_type": "code",
   "execution_count": 335,
   "metadata": {
    "execution": {
     "iopub.execute_input": "2024-06-06T16:59:26.669937Z",
     "iopub.status.busy": "2024-06-06T16:59:26.669937Z",
     "iopub.status.idle": "2024-06-06T16:59:26.682331Z",
     "shell.execute_reply": "2024-06-06T16:59:26.682331Z",
     "shell.execute_reply.started": "2024-06-06T16:59:26.669937Z"
    }
   },
   "outputs": [
    {
     "data": {
      "text/html": [
       "<div>\n",
       "<style scoped>\n",
       "    .dataframe tbody tr th:only-of-type {\n",
       "        vertical-align: middle;\n",
       "    }\n",
       "\n",
       "    .dataframe tbody tr th {\n",
       "        vertical-align: top;\n",
       "    }\n",
       "\n",
       "    .dataframe thead th {\n",
       "        text-align: right;\n",
       "    }\n",
       "</style>\n",
       "<table border=\"1\" class=\"dataframe\">\n",
       "  <thead>\n",
       "    <tr style=\"text-align: right;\">\n",
       "      <th></th>\n",
       "      <th>reviews</th>\n",
       "      <th>label</th>\n",
       "    </tr>\n",
       "  </thead>\n",
       "  <tbody>\n",
       "    <tr>\n",
       "      <th>0</th>\n",
       "      <td>배송은 생각보다 빨리도착했네요 손목 스트랩 쌍 레드 디자인 이쁘고 마감처리 깔끔하...</td>\n",
       "      <td>1.0</td>\n",
       "    </tr>\n",
       "    <tr>\n",
       "      <th>1</th>\n",
       "      <td>배송 빠르고 색상 디자인 마감처리 깔끔하니 가성비 좋아요 만족합니다 강력 추천 ㅋ</td>\n",
       "      <td>1.0</td>\n",
       "    </tr>\n",
       "    <tr>\n",
       "      <th>2</th>\n",
       "      <td>정말 좋습니다 기대이상인듯 만원대 나 의 리프팅 스트랩에 비교해도 기능성으로는 전...</td>\n",
       "      <td>1.0</td>\n",
       "    </tr>\n",
       "    <tr>\n",
       "      <th>3</th>\n",
       "      <td>개중에 한개는 포장이 열린 상태로 왔습니다 하지만 상품에는 아무 문제 없고 미끄럼...</td>\n",
       "      <td>1.0</td>\n",
       "    </tr>\n",
       "    <tr>\n",
       "      <th>4</th>\n",
       "      <td>아 배송은 일 걸려서 배송지연으로 배송무료 쿠폰 받았습니다</td>\n",
       "      <td>1.0</td>\n",
       "    </tr>\n",
       "    <tr>\n",
       "      <th>...</th>\n",
       "      <td>...</td>\n",
       "      <td>...</td>\n",
       "    </tr>\n",
       "    <tr>\n",
       "      <th>15394</th>\n",
       "      <td>좋아요</td>\n",
       "      <td>NaN</td>\n",
       "    </tr>\n",
       "    <tr>\n",
       "      <th>15395</th>\n",
       "      <td>꼽았는데 반응이 전혀읍네 뽑기실패 꼽았는데 반응이 전혀읍네 뽑기실패 꼽았는데 반응...</td>\n",
       "      <td>NaN</td>\n",
       "    </tr>\n",
       "    <tr>\n",
       "      <th>15396</th>\n",
       "      <td>감사합니다 잘 쓰겠습니다</td>\n",
       "      <td>NaN</td>\n",
       "    </tr>\n",
       "    <tr>\n",
       "      <th>15397</th>\n",
       "      <td>좋아요 잘 쓰겠습니다</td>\n",
       "      <td>NaN</td>\n",
       "    </tr>\n",
       "    <tr>\n",
       "      <th>15398</th>\n",
       "      <td>작동잘되고 상태 멀쩡합니다 굿 잘쓰는중입니다</td>\n",
       "      <td>NaN</td>\n",
       "    </tr>\n",
       "  </tbody>\n",
       "</table>\n",
       "<p>15399 rows × 2 columns</p>\n",
       "</div>"
      ],
      "text/plain": [
       "                                                 reviews  label\n",
       "0       배송은 생각보다 빨리도착했네요 손목 스트랩 쌍 레드 디자인 이쁘고 마감처리 깔끔하...    1.0\n",
       "1         배송 빠르고 색상 디자인 마감처리 깔끔하니 가성비 좋아요 만족합니다 강력 추천 ㅋ     1.0\n",
       "2       정말 좋습니다 기대이상인듯 만원대 나 의 리프팅 스트랩에 비교해도 기능성으로는 전...    1.0\n",
       "3       개중에 한개는 포장이 열린 상태로 왔습니다 하지만 상품에는 아무 문제 없고 미끄럼...    1.0\n",
       "4                      아 배송은 일 걸려서 배송지연으로 배송무료 쿠폰 받았습니다     1.0\n",
       "...                                                  ...    ...\n",
       "15394                                               좋아요     NaN\n",
       "15395   꼽았는데 반응이 전혀읍네 뽑기실패 꼽았는데 반응이 전혀읍네 뽑기실패 꼽았는데 반응...    NaN\n",
       "15396                                     감사합니다 잘 쓰겠습니다     NaN\n",
       "15397                                       좋아요 잘 쓰겠습니다     NaN\n",
       "15398                          작동잘되고 상태 멀쩡합니다 굿 잘쓰는중입니다     NaN\n",
       "\n",
       "[15399 rows x 2 columns]"
      ]
     },
     "execution_count": 335,
     "metadata": {},
     "output_type": "execute_result"
    }
   ],
   "source": [
    "pd.concat([df_reviews, df_label],axis=1)"
   ]
  },
  {
   "cell_type": "code",
   "execution_count": 37,
   "metadata": {
    "colab": {
     "base_uri": "https://localhost:8080/"
    },
    "id": "khn49qCECyJL",
    "outputId": "a98aaad6-9b25-4683-c298-c96fb3d6bf0d"
   },
   "outputs": [
    {
     "name": "stdout",
     "output_type": "stream",
     "text": [
      "Collecting konlpy\n",
      "  Downloading konlpy-0.6.0-py2.py3-none-any.whl (19.4 MB)\n",
      "\u001b[2K     \u001b[90m━━━━━━━━━━━━━━━━━━━━━━━━━━━━━━━━━━━━━━━━\u001b[0m \u001b[32m19.4/19.4 MB\u001b[0m \u001b[31m44.1 MB/s\u001b[0m eta \u001b[36m0:00:00\u001b[0m\n",
      "\u001b[?25hCollecting JPype1>=0.7.0 (from konlpy)\n",
      "  Downloading JPype1-1.5.0-cp310-cp310-manylinux_2_17_x86_64.manylinux2014_x86_64.whl (488 kB)\n",
      "\u001b[2K     \u001b[90m━━━━━━━━━━━━━━━━━━━━━━━━━━━━━━━━━━━━━━━━\u001b[0m \u001b[32m488.6/488.6 kB\u001b[0m \u001b[31m38.5 MB/s\u001b[0m eta \u001b[36m0:00:00\u001b[0m\n",
      "\u001b[?25hRequirement already satisfied: lxml>=4.1.0 in /usr/local/lib/python3.10/dist-packages (from konlpy) (4.9.4)\n",
      "Requirement already satisfied: numpy>=1.6 in /usr/local/lib/python3.10/dist-packages (from konlpy) (1.25.2)\n",
      "Requirement already satisfied: packaging in /usr/local/lib/python3.10/dist-packages (from JPype1>=0.7.0->konlpy) (24.0)\n",
      "Installing collected packages: JPype1, konlpy\n",
      "Successfully installed JPype1-1.5.0 konlpy-0.6.0\n"
     ]
    }
   ],
   "source": [
    "!pip install konlpy"
   ]
  },
  {
   "cell_type": "code",
   "execution_count": null,
   "metadata": {
    "execution": {
     "iopub.execute_input": "2024-06-07T08:17:41.915693Z",
     "iopub.status.busy": "2024-06-07T08:17:41.915693Z",
     "iopub.status.idle": "2024-06-07T08:17:42.224376Z",
     "shell.execute_reply": "2024-06-07T08:17:42.223407Z",
     "shell.execute_reply.started": "2024-06-07T08:17:41.915693Z"
    }
   },
   "outputs": [],
   "source": [
    "df_reviews = pd.read_csv('datas/review+_labeling_data.csv', encoding = 'utf-8') #허깅페이스로 라벨링한 자료"
   ]
  },
  {
   "cell_type": "code",
   "execution_count": 53,
   "metadata": {
    "execution": {
     "iopub.execute_input": "2024-06-07T07:44:58.646132Z",
     "iopub.status.busy": "2024-06-07T07:44:58.645111Z",
     "iopub.status.idle": "2024-06-07T07:44:58.665147Z",
     "shell.execute_reply": "2024-06-07T07:44:58.664150Z",
     "shell.execute_reply.started": "2024-06-07T07:44:58.646132Z"
    }
   },
   "outputs": [],
   "source": [
    "df_reviews.rename(columns = {'pred' : 'label' },inplace=True) #허깅페이스로 작업한 컬럼은 'pred'를 'label'로 바꿈"
   ]
  },
  {
   "cell_type": "code",
   "execution_count": 54,
   "metadata": {
    "execution": {
     "iopub.execute_input": "2024-06-07T07:45:00.371584Z",
     "iopub.status.busy": "2024-06-07T07:45:00.371584Z",
     "iopub.status.idle": "2024-06-07T07:45:00.391531Z",
     "shell.execute_reply": "2024-06-07T07:45:00.391531Z",
     "shell.execute_reply.started": "2024-06-07T07:45:00.371584Z"
    }
   },
   "outputs": [
    {
     "data": {
      "text/html": [
       "<div>\n",
       "<style scoped>\n",
       "    .dataframe tbody tr th:only-of-type {\n",
       "        vertical-align: middle;\n",
       "    }\n",
       "\n",
       "    .dataframe tbody tr th {\n",
       "        vertical-align: top;\n",
       "    }\n",
       "\n",
       "    .dataframe thead th {\n",
       "        text-align: right;\n",
       "    }\n",
       "</style>\n",
       "<table border=\"1\" class=\"dataframe\">\n",
       "  <thead>\n",
       "    <tr style=\"text-align: right;\">\n",
       "      <th></th>\n",
       "      <th>reviews</th>\n",
       "      <th>label</th>\n",
       "    </tr>\n",
       "  </thead>\n",
       "  <tbody>\n",
       "    <tr>\n",
       "      <th>0</th>\n",
       "      <td>['배송은 생각보다 빨리도착했네요 손목 스트랩 1쌍~레드 디자인 이쁘고 마감처리 깔...</td>\n",
       "      <td>1</td>\n",
       "    </tr>\n",
       "    <tr>\n",
       "      <th>1</th>\n",
       "      <td>'배송 빠르고 색상 디자인 마감처리 깔끔하니 가성비 좋아요 만족합니다 강력 추천~~ㅋ'</td>\n",
       "      <td>1</td>\n",
       "    </tr>\n",
       "    <tr>\n",
       "      <th>2</th>\n",
       "      <td>'정말 좋습니다. 기대이상인듯. 2~3만원대 WSF나 Schiek의 리프팅 스트랩...</td>\n",
       "      <td>1</td>\n",
       "    </tr>\n",
       "    <tr>\n",
       "      <th>3</th>\n",
       "      <td>'3개중에 한개는 포장이 열린 상태로 왔습니다 하지만 상품에는 아무 문제 없고 미...</td>\n",
       "      <td>1</td>\n",
       "    </tr>\n",
       "    <tr>\n",
       "      <th>4</th>\n",
       "      <td>'아 배송은 8일 걸려서 배송지연으로 배송무료 쿠폰 받았습니다.'</td>\n",
       "      <td>0</td>\n",
       "    </tr>\n",
       "  </tbody>\n",
       "</table>\n",
       "</div>"
      ],
      "text/plain": [
       "                                             reviews  label\n",
       "0  ['배송은 생각보다 빨리도착했네요 손목 스트랩 1쌍~레드 디자인 이쁘고 마감처리 깔...      1\n",
       "1   '배송 빠르고 색상 디자인 마감처리 깔끔하니 가성비 좋아요 만족합니다 강력 추천~~ㅋ'      1\n",
       "2   '정말 좋습니다. 기대이상인듯. 2~3만원대 WSF나 Schiek의 리프팅 스트랩...      1\n",
       "3   '3개중에 한개는 포장이 열린 상태로 왔습니다 하지만 상품에는 아무 문제 없고 미...      1\n",
       "4               '아 배송은 8일 걸려서 배송지연으로 배송무료 쿠폰 받았습니다.'      0"
      ]
     },
     "execution_count": 54,
     "metadata": {},
     "output_type": "execute_result"
    }
   ],
   "source": [
    "df_reviews.head()"
   ]
  },
  {
   "cell_type": "code",
   "execution_count": 47,
   "metadata": {
    "execution": {
     "iopub.execute_input": "2024-06-07T07:41:55.890047Z",
     "iopub.status.busy": "2024-06-07T07:41:55.890047Z",
     "iopub.status.idle": "2024-06-07T07:41:56.492408Z",
     "shell.execute_reply": "2024-06-07T07:41:56.492408Z",
     "shell.execute_reply.started": "2024-06-07T07:41:55.890047Z"
    },
    "id": "pojh64HDI_Xf"
   },
   "outputs": [],
   "source": [
    "# 분석 모델 구축\n",
    "\n",
    "# 형태소 분석기 가져오기\n",
    "from konlpy.tag import Okt\n",
    "\n",
    "okt = Okt()"
   ]
  },
  {
   "cell_type": "code",
   "execution_count": 48,
   "metadata": {
    "execution": {
     "iopub.execute_input": "2024-06-07T07:41:58.994077Z",
     "iopub.status.busy": "2024-06-07T07:41:58.993084Z",
     "iopub.status.idle": "2024-06-07T07:41:59.006046Z",
     "shell.execute_reply": "2024-06-07T07:41:59.006046Z",
     "shell.execute_reply.started": "2024-06-07T07:41:58.994077Z"
    },
    "id": "wfFdppvkI_fE"
   },
   "outputs": [],
   "source": [
    "# 토큰화\n",
    "def okt_tokenizer(text):\n",
    "    tokens = okt.morphs(text)\n",
    "    # text 입력받아 형태소 분석, 토큰 생성\n",
    "    return tokens"
   ]
  },
  {
   "cell_type": "code",
   "execution_count": 49,
   "metadata": {
    "execution": {
     "iopub.execute_input": "2024-06-07T07:42:07.625982Z",
     "iopub.status.busy": "2024-06-07T07:42:07.625982Z",
     "iopub.status.idle": "2024-06-07T07:44:18.177008Z",
     "shell.execute_reply": "2024-06-07T07:44:18.177008Z",
     "shell.execute_reply.started": "2024-06-07T07:42:07.625982Z"
    },
    "id": "jvBpOsu_I_ic"
   },
   "outputs": [],
   "source": [
    "from sklearn.feature_extraction.text import TfidfVectorizer\n",
    "# tf-idf 활용 >> vector(숫자) 생성 (문자 >> 숫자)\n",
    "\n",
    "tfidf= TfidfVectorizer(tokenizer= okt_tokenizer, ngram_range =(1,2),\n",
    "                min_df=3, max_df=0.9)\n",
    "# 토큰화 작업: okt_tokenizer\n",
    "# ngram_range = (1,2 ) 단어 크기 1개 ~ 2개\n",
    "# min_df=3 출현빈도가 최소 3번 이상\n",
    "# max_df=0.9 최대 90% 이하 등장\n",
    "\n",
    "tfidf.fit(df_reviews['reviews'])\n",
    "train_tfidf = tfidf.transform(df_reviews['reviews'])"
   ]
  },
  {
   "cell_type": "code",
   "execution_count": 55,
   "metadata": {
    "execution": {
     "iopub.execute_input": "2024-06-07T07:45:09.010834Z",
     "iopub.status.busy": "2024-06-07T07:45:09.009837Z",
     "iopub.status.idle": "2024-06-07T07:45:09.124668Z",
     "shell.execute_reply": "2024-06-07T07:45:09.124668Z",
     "shell.execute_reply.started": "2024-06-07T07:45:09.010834Z"
    },
    "id": "ljLeP50-Jc7I"
   },
   "outputs": [],
   "source": [
    "from sklearn.linear_model import LogisticRegression\n",
    "\n",
    "lr = LogisticRegression(random_state=42)"
   ]
  },
  {
   "cell_type": "code",
   "execution_count": 56,
   "metadata": {
    "colab": {
     "base_uri": "https://localhost:8080/",
     "height": 75
    },
    "execution": {
     "iopub.execute_input": "2024-06-07T07:45:20.404453Z",
     "iopub.status.busy": "2024-06-07T07:45:20.403456Z",
     "iopub.status.idle": "2024-06-07T07:45:20.660494Z",
     "shell.execute_reply": "2024-06-07T07:45:20.660494Z",
     "shell.execute_reply.started": "2024-06-07T07:45:20.404453Z"
    },
    "id": "kdnBzm2nJc-X",
    "outputId": "6c74e05b-57c2-45df-dc91-87174f4c38a9",
    "scrolled": true
   },
   "outputs": [
    {
     "data": {
      "text/html": [
       "<style>#sk-container-id-1 {color: black;}#sk-container-id-1 pre{padding: 0;}#sk-container-id-1 div.sk-toggleable {background-color: white;}#sk-container-id-1 label.sk-toggleable__label {cursor: pointer;display: block;width: 100%;margin-bottom: 0;padding: 0.3em;box-sizing: border-box;text-align: center;}#sk-container-id-1 label.sk-toggleable__label-arrow:before {content: \"▸\";float: left;margin-right: 0.25em;color: #696969;}#sk-container-id-1 label.sk-toggleable__label-arrow:hover:before {color: black;}#sk-container-id-1 div.sk-estimator:hover label.sk-toggleable__label-arrow:before {color: black;}#sk-container-id-1 div.sk-toggleable__content {max-height: 0;max-width: 0;overflow: hidden;text-align: left;background-color: #f0f8ff;}#sk-container-id-1 div.sk-toggleable__content pre {margin: 0.2em;color: black;border-radius: 0.25em;background-color: #f0f8ff;}#sk-container-id-1 input.sk-toggleable__control:checked~div.sk-toggleable__content {max-height: 200px;max-width: 100%;overflow: auto;}#sk-container-id-1 input.sk-toggleable__control:checked~label.sk-toggleable__label-arrow:before {content: \"▾\";}#sk-container-id-1 div.sk-estimator input.sk-toggleable__control:checked~label.sk-toggleable__label {background-color: #d4ebff;}#sk-container-id-1 div.sk-label input.sk-toggleable__control:checked~label.sk-toggleable__label {background-color: #d4ebff;}#sk-container-id-1 input.sk-hidden--visually {border: 0;clip: rect(1px 1px 1px 1px);clip: rect(1px, 1px, 1px, 1px);height: 1px;margin: -1px;overflow: hidden;padding: 0;position: absolute;width: 1px;}#sk-container-id-1 div.sk-estimator {font-family: monospace;background-color: #f0f8ff;border: 1px dotted black;border-radius: 0.25em;box-sizing: border-box;margin-bottom: 0.5em;}#sk-container-id-1 div.sk-estimator:hover {background-color: #d4ebff;}#sk-container-id-1 div.sk-parallel-item::after {content: \"\";width: 100%;border-bottom: 1px solid gray;flex-grow: 1;}#sk-container-id-1 div.sk-label:hover label.sk-toggleable__label {background-color: #d4ebff;}#sk-container-id-1 div.sk-serial::before {content: \"\";position: absolute;border-left: 1px solid gray;box-sizing: border-box;top: 0;bottom: 0;left: 50%;z-index: 0;}#sk-container-id-1 div.sk-serial {display: flex;flex-direction: column;align-items: center;background-color: white;padding-right: 0.2em;padding-left: 0.2em;position: relative;}#sk-container-id-1 div.sk-item {position: relative;z-index: 1;}#sk-container-id-1 div.sk-parallel {display: flex;align-items: stretch;justify-content: center;background-color: white;position: relative;}#sk-container-id-1 div.sk-item::before, #sk-container-id-1 div.sk-parallel-item::before {content: \"\";position: absolute;border-left: 1px solid gray;box-sizing: border-box;top: 0;bottom: 0;left: 50%;z-index: -1;}#sk-container-id-1 div.sk-parallel-item {display: flex;flex-direction: column;z-index: 1;position: relative;background-color: white;}#sk-container-id-1 div.sk-parallel-item:first-child::after {align-self: flex-end;width: 50%;}#sk-container-id-1 div.sk-parallel-item:last-child::after {align-self: flex-start;width: 50%;}#sk-container-id-1 div.sk-parallel-item:only-child::after {width: 0;}#sk-container-id-1 div.sk-dashed-wrapped {border: 1px dashed gray;margin: 0 0.4em 0.5em 0.4em;box-sizing: border-box;padding-bottom: 0.4em;background-color: white;}#sk-container-id-1 div.sk-label label {font-family: monospace;font-weight: bold;display: inline-block;line-height: 1.2em;}#sk-container-id-1 div.sk-label-container {text-align: center;}#sk-container-id-1 div.sk-container {/* jupyter's `normalize.less` sets `[hidden] { display: none; }` but bootstrap.min.css set `[hidden] { display: none !important; }` so we also need the `!important` here to be able to override the default hidden behavior on the sphinx rendered scikit-learn.org. See: https://github.com/scikit-learn/scikit-learn/issues/21755 */display: inline-block !important;position: relative;}#sk-container-id-1 div.sk-text-repr-fallback {display: none;}</style><div id=\"sk-container-id-1\" class=\"sk-top-container\"><div class=\"sk-text-repr-fallback\"><pre>LogisticRegression(random_state=42)</pre><b>In a Jupyter environment, please rerun this cell to show the HTML representation or trust the notebook. <br />On GitHub, the HTML representation is unable to render, please try loading this page with nbviewer.org.</b></div><div class=\"sk-container\" hidden><div class=\"sk-item\"><div class=\"sk-estimator sk-toggleable\"><input class=\"sk-toggleable__control sk-hidden--visually\" id=\"sk-estimator-id-1\" type=\"checkbox\" checked><label for=\"sk-estimator-id-1\" class=\"sk-toggleable__label sk-toggleable__label-arrow\">LogisticRegression</label><div class=\"sk-toggleable__content\"><pre>LogisticRegression(random_state=42)</pre></div></div></div></div></div>"
      ],
      "text/plain": [
       "LogisticRegression(random_state=42)"
      ]
     },
     "execution_count": 56,
     "metadata": {},
     "output_type": "execute_result"
    }
   ],
   "source": [
    "lr.fit(train_tfidf, df_reviews['label'])"
   ]
  },
  {
   "cell_type": "code",
   "execution_count": 57,
   "metadata": {
    "execution": {
     "iopub.execute_input": "2024-06-07T07:48:06.467063Z",
     "iopub.status.busy": "2024-06-07T07:48:06.466066Z",
     "iopub.status.idle": "2024-06-07T07:48:06.475041Z",
     "shell.execute_reply": "2024-06-07T07:48:06.474045Z",
     "shell.execute_reply.started": "2024-06-07T07:48:06.467063Z"
    },
    "id": "6pHPeWpYJdCF"
   },
   "outputs": [],
   "source": [
    "from sklearn.model_selection import GridSearchCV\n",
    "\n",
    "# 최적의 하이퍼 파라미터(hyper-parameter) 값 구하기 위함\n",
    "params = {'C':[1,3,3.5,4,4.5,5]}\n",
    "\n",
    "lr_grid_cv = GridSearchCV(lr, param_grid = params, cv=3, scoring='accuracy', verbose=1)\n",
    "# cv : cross validation 교차 검증\n",
    "# 정확도 측정, verbose=1 진행과정을 출력(0으로 설정>> 출력 안함)"
   ]
  },
  {
   "cell_type": "code",
   "execution_count": 58,
   "metadata": {
    "colab": {
     "base_uri": "https://localhost:8080/",
     "height": 136
    },
    "execution": {
     "iopub.execute_input": "2024-06-07T07:50:08.243980Z",
     "iopub.status.busy": "2024-06-07T07:50:08.243980Z",
     "iopub.status.idle": "2024-06-07T07:50:12.466545Z",
     "shell.execute_reply": "2024-06-07T07:50:12.466545Z",
     "shell.execute_reply.started": "2024-06-07T07:50:08.243980Z"
    },
    "id": "3JLtZvAjJdFg",
    "outputId": "c88d728f-2dc2-458e-e130-0d25449301b2"
   },
   "outputs": [
    {
     "name": "stdout",
     "output_type": "stream",
     "text": [
      "Fitting 3 folds for each of 6 candidates, totalling 18 fits\n"
     ]
    },
    {
     "data": {
      "text/html": [
       "<style>#sk-container-id-2 {color: black;}#sk-container-id-2 pre{padding: 0;}#sk-container-id-2 div.sk-toggleable {background-color: white;}#sk-container-id-2 label.sk-toggleable__label {cursor: pointer;display: block;width: 100%;margin-bottom: 0;padding: 0.3em;box-sizing: border-box;text-align: center;}#sk-container-id-2 label.sk-toggleable__label-arrow:before {content: \"▸\";float: left;margin-right: 0.25em;color: #696969;}#sk-container-id-2 label.sk-toggleable__label-arrow:hover:before {color: black;}#sk-container-id-2 div.sk-estimator:hover label.sk-toggleable__label-arrow:before {color: black;}#sk-container-id-2 div.sk-toggleable__content {max-height: 0;max-width: 0;overflow: hidden;text-align: left;background-color: #f0f8ff;}#sk-container-id-2 div.sk-toggleable__content pre {margin: 0.2em;color: black;border-radius: 0.25em;background-color: #f0f8ff;}#sk-container-id-2 input.sk-toggleable__control:checked~div.sk-toggleable__content {max-height: 200px;max-width: 100%;overflow: auto;}#sk-container-id-2 input.sk-toggleable__control:checked~label.sk-toggleable__label-arrow:before {content: \"▾\";}#sk-container-id-2 div.sk-estimator input.sk-toggleable__control:checked~label.sk-toggleable__label {background-color: #d4ebff;}#sk-container-id-2 div.sk-label input.sk-toggleable__control:checked~label.sk-toggleable__label {background-color: #d4ebff;}#sk-container-id-2 input.sk-hidden--visually {border: 0;clip: rect(1px 1px 1px 1px);clip: rect(1px, 1px, 1px, 1px);height: 1px;margin: -1px;overflow: hidden;padding: 0;position: absolute;width: 1px;}#sk-container-id-2 div.sk-estimator {font-family: monospace;background-color: #f0f8ff;border: 1px dotted black;border-radius: 0.25em;box-sizing: border-box;margin-bottom: 0.5em;}#sk-container-id-2 div.sk-estimator:hover {background-color: #d4ebff;}#sk-container-id-2 div.sk-parallel-item::after {content: \"\";width: 100%;border-bottom: 1px solid gray;flex-grow: 1;}#sk-container-id-2 div.sk-label:hover label.sk-toggleable__label {background-color: #d4ebff;}#sk-container-id-2 div.sk-serial::before {content: \"\";position: absolute;border-left: 1px solid gray;box-sizing: border-box;top: 0;bottom: 0;left: 50%;z-index: 0;}#sk-container-id-2 div.sk-serial {display: flex;flex-direction: column;align-items: center;background-color: white;padding-right: 0.2em;padding-left: 0.2em;position: relative;}#sk-container-id-2 div.sk-item {position: relative;z-index: 1;}#sk-container-id-2 div.sk-parallel {display: flex;align-items: stretch;justify-content: center;background-color: white;position: relative;}#sk-container-id-2 div.sk-item::before, #sk-container-id-2 div.sk-parallel-item::before {content: \"\";position: absolute;border-left: 1px solid gray;box-sizing: border-box;top: 0;bottom: 0;left: 50%;z-index: -1;}#sk-container-id-2 div.sk-parallel-item {display: flex;flex-direction: column;z-index: 1;position: relative;background-color: white;}#sk-container-id-2 div.sk-parallel-item:first-child::after {align-self: flex-end;width: 50%;}#sk-container-id-2 div.sk-parallel-item:last-child::after {align-self: flex-start;width: 50%;}#sk-container-id-2 div.sk-parallel-item:only-child::after {width: 0;}#sk-container-id-2 div.sk-dashed-wrapped {border: 1px dashed gray;margin: 0 0.4em 0.5em 0.4em;box-sizing: border-box;padding-bottom: 0.4em;background-color: white;}#sk-container-id-2 div.sk-label label {font-family: monospace;font-weight: bold;display: inline-block;line-height: 1.2em;}#sk-container-id-2 div.sk-label-container {text-align: center;}#sk-container-id-2 div.sk-container {/* jupyter's `normalize.less` sets `[hidden] { display: none; }` but bootstrap.min.css set `[hidden] { display: none !important; }` so we also need the `!important` here to be able to override the default hidden behavior on the sphinx rendered scikit-learn.org. See: https://github.com/scikit-learn/scikit-learn/issues/21755 */display: inline-block !important;position: relative;}#sk-container-id-2 div.sk-text-repr-fallback {display: none;}</style><div id=\"sk-container-id-2\" class=\"sk-top-container\"><div class=\"sk-text-repr-fallback\"><pre>GridSearchCV(cv=3, estimator=LogisticRegression(random_state=42),\n",
       "             param_grid={&#x27;C&#x27;: [1, 3, 3.5, 4, 4.5, 5]}, scoring=&#x27;accuracy&#x27;,\n",
       "             verbose=1)</pre><b>In a Jupyter environment, please rerun this cell to show the HTML representation or trust the notebook. <br />On GitHub, the HTML representation is unable to render, please try loading this page with nbviewer.org.</b></div><div class=\"sk-container\" hidden><div class=\"sk-item sk-dashed-wrapped\"><div class=\"sk-label-container\"><div class=\"sk-label sk-toggleable\"><input class=\"sk-toggleable__control sk-hidden--visually\" id=\"sk-estimator-id-2\" type=\"checkbox\" ><label for=\"sk-estimator-id-2\" class=\"sk-toggleable__label sk-toggleable__label-arrow\">GridSearchCV</label><div class=\"sk-toggleable__content\"><pre>GridSearchCV(cv=3, estimator=LogisticRegression(random_state=42),\n",
       "             param_grid={&#x27;C&#x27;: [1, 3, 3.5, 4, 4.5, 5]}, scoring=&#x27;accuracy&#x27;,\n",
       "             verbose=1)</pre></div></div></div><div class=\"sk-parallel\"><div class=\"sk-parallel-item\"><div class=\"sk-item\"><div class=\"sk-label-container\"><div class=\"sk-label sk-toggleable\"><input class=\"sk-toggleable__control sk-hidden--visually\" id=\"sk-estimator-id-3\" type=\"checkbox\" ><label for=\"sk-estimator-id-3\" class=\"sk-toggleable__label sk-toggleable__label-arrow\">estimator: LogisticRegression</label><div class=\"sk-toggleable__content\"><pre>LogisticRegression(random_state=42)</pre></div></div></div><div class=\"sk-serial\"><div class=\"sk-item\"><div class=\"sk-estimator sk-toggleable\"><input class=\"sk-toggleable__control sk-hidden--visually\" id=\"sk-estimator-id-4\" type=\"checkbox\" ><label for=\"sk-estimator-id-4\" class=\"sk-toggleable__label sk-toggleable__label-arrow\">LogisticRegression</label><div class=\"sk-toggleable__content\"><pre>LogisticRegression(random_state=42)</pre></div></div></div></div></div></div></div></div></div></div>"
      ],
      "text/plain": [
       "GridSearchCV(cv=3, estimator=LogisticRegression(random_state=42),\n",
       "             param_grid={'C': [1, 3, 3.5, 4, 4.5, 5]}, scoring='accuracy',\n",
       "             verbose=1)"
      ]
     },
     "execution_count": 58,
     "metadata": {},
     "output_type": "execute_result"
    }
   ],
   "source": [
    "# 감성 분류 모델 구축\n",
    "\n",
    "lr_grid_cv.fit(train_tfidf, df_reviews['label'])"
   ]
  },
  {
   "cell_type": "code",
   "execution_count": 60,
   "metadata": {
    "colab": {
     "base_uri": "https://localhost:8080/"
    },
    "execution": {
     "iopub.execute_input": "2024-06-07T07:50:20.218617Z",
     "iopub.status.busy": "2024-06-07T07:50:20.218617Z",
     "iopub.status.idle": "2024-06-07T07:50:20.225607Z",
     "shell.execute_reply": "2024-06-07T07:50:20.224601Z",
     "shell.execute_reply.started": "2024-06-07T07:50:20.218617Z"
    },
    "id": "iqyQX5VJI_m-",
    "outputId": "81f16a93-f967-47d8-e75a-7b27f2907062"
   },
   "outputs": [
    {
     "name": "stdout",
     "output_type": "stream",
     "text": [
      "{'C': 5} 0.864\n"
     ]
    }
   ],
   "source": [
    "print(lr_grid_cv.best_params_, round(lr_grid_cv.best_score_, 3))"
   ]
  },
  {
   "cell_type": "code",
   "execution_count": 61,
   "metadata": {
    "execution": {
     "iopub.execute_input": "2024-06-07T07:50:25.235009Z",
     "iopub.status.busy": "2024-06-07T07:50:25.234011Z",
     "iopub.status.idle": "2024-06-07T07:50:25.241991Z",
     "shell.execute_reply": "2024-06-07T07:50:25.240993Z",
     "shell.execute_reply.started": "2024-06-07T07:50:25.235009Z"
    },
    "id": "rpjz7KE6N6yQ"
   },
   "outputs": [],
   "source": [
    "# 최적 매개변수의 best 모델 >> 저장\n",
    "lr_best = lr_grid_cv.best_estimator_"
   ]
  },
  {
   "cell_type": "code",
   "execution_count": 62,
   "metadata": {
    "colab": {
     "base_uri": "https://localhost:8080/",
     "height": 75
    },
    "execution": {
     "iopub.execute_input": "2024-06-07T07:50:28.186357Z",
     "iopub.status.busy": "2024-06-07T07:50:28.186357Z",
     "iopub.status.idle": "2024-06-07T07:50:28.201316Z",
     "shell.execute_reply": "2024-06-07T07:50:28.200318Z",
     "shell.execute_reply.started": "2024-06-07T07:50:28.186357Z"
    },
    "id": "CrQRuugJQTjO",
    "outputId": "df819b5a-f95e-419b-eb37-0357e48083ce"
   },
   "outputs": [
    {
     "data": {
      "text/html": [
       "<style>#sk-container-id-3 {color: black;}#sk-container-id-3 pre{padding: 0;}#sk-container-id-3 div.sk-toggleable {background-color: white;}#sk-container-id-3 label.sk-toggleable__label {cursor: pointer;display: block;width: 100%;margin-bottom: 0;padding: 0.3em;box-sizing: border-box;text-align: center;}#sk-container-id-3 label.sk-toggleable__label-arrow:before {content: \"▸\";float: left;margin-right: 0.25em;color: #696969;}#sk-container-id-3 label.sk-toggleable__label-arrow:hover:before {color: black;}#sk-container-id-3 div.sk-estimator:hover label.sk-toggleable__label-arrow:before {color: black;}#sk-container-id-3 div.sk-toggleable__content {max-height: 0;max-width: 0;overflow: hidden;text-align: left;background-color: #f0f8ff;}#sk-container-id-3 div.sk-toggleable__content pre {margin: 0.2em;color: black;border-radius: 0.25em;background-color: #f0f8ff;}#sk-container-id-3 input.sk-toggleable__control:checked~div.sk-toggleable__content {max-height: 200px;max-width: 100%;overflow: auto;}#sk-container-id-3 input.sk-toggleable__control:checked~label.sk-toggleable__label-arrow:before {content: \"▾\";}#sk-container-id-3 div.sk-estimator input.sk-toggleable__control:checked~label.sk-toggleable__label {background-color: #d4ebff;}#sk-container-id-3 div.sk-label input.sk-toggleable__control:checked~label.sk-toggleable__label {background-color: #d4ebff;}#sk-container-id-3 input.sk-hidden--visually {border: 0;clip: rect(1px 1px 1px 1px);clip: rect(1px, 1px, 1px, 1px);height: 1px;margin: -1px;overflow: hidden;padding: 0;position: absolute;width: 1px;}#sk-container-id-3 div.sk-estimator {font-family: monospace;background-color: #f0f8ff;border: 1px dotted black;border-radius: 0.25em;box-sizing: border-box;margin-bottom: 0.5em;}#sk-container-id-3 div.sk-estimator:hover {background-color: #d4ebff;}#sk-container-id-3 div.sk-parallel-item::after {content: \"\";width: 100%;border-bottom: 1px solid gray;flex-grow: 1;}#sk-container-id-3 div.sk-label:hover label.sk-toggleable__label {background-color: #d4ebff;}#sk-container-id-3 div.sk-serial::before {content: \"\";position: absolute;border-left: 1px solid gray;box-sizing: border-box;top: 0;bottom: 0;left: 50%;z-index: 0;}#sk-container-id-3 div.sk-serial {display: flex;flex-direction: column;align-items: center;background-color: white;padding-right: 0.2em;padding-left: 0.2em;position: relative;}#sk-container-id-3 div.sk-item {position: relative;z-index: 1;}#sk-container-id-3 div.sk-parallel {display: flex;align-items: stretch;justify-content: center;background-color: white;position: relative;}#sk-container-id-3 div.sk-item::before, #sk-container-id-3 div.sk-parallel-item::before {content: \"\";position: absolute;border-left: 1px solid gray;box-sizing: border-box;top: 0;bottom: 0;left: 50%;z-index: -1;}#sk-container-id-3 div.sk-parallel-item {display: flex;flex-direction: column;z-index: 1;position: relative;background-color: white;}#sk-container-id-3 div.sk-parallel-item:first-child::after {align-self: flex-end;width: 50%;}#sk-container-id-3 div.sk-parallel-item:last-child::after {align-self: flex-start;width: 50%;}#sk-container-id-3 div.sk-parallel-item:only-child::after {width: 0;}#sk-container-id-3 div.sk-dashed-wrapped {border: 1px dashed gray;margin: 0 0.4em 0.5em 0.4em;box-sizing: border-box;padding-bottom: 0.4em;background-color: white;}#sk-container-id-3 div.sk-label label {font-family: monospace;font-weight: bold;display: inline-block;line-height: 1.2em;}#sk-container-id-3 div.sk-label-container {text-align: center;}#sk-container-id-3 div.sk-container {/* jupyter's `normalize.less` sets `[hidden] { display: none; }` but bootstrap.min.css set `[hidden] { display: none !important; }` so we also need the `!important` here to be able to override the default hidden behavior on the sphinx rendered scikit-learn.org. See: https://github.com/scikit-learn/scikit-learn/issues/21755 */display: inline-block !important;position: relative;}#sk-container-id-3 div.sk-text-repr-fallback {display: none;}</style><div id=\"sk-container-id-3\" class=\"sk-top-container\"><div class=\"sk-text-repr-fallback\"><pre>LogisticRegression(C=5, random_state=42)</pre><b>In a Jupyter environment, please rerun this cell to show the HTML representation or trust the notebook. <br />On GitHub, the HTML representation is unable to render, please try loading this page with nbviewer.org.</b></div><div class=\"sk-container\" hidden><div class=\"sk-item\"><div class=\"sk-estimator sk-toggleable\"><input class=\"sk-toggleable__control sk-hidden--visually\" id=\"sk-estimator-id-5\" type=\"checkbox\" checked><label for=\"sk-estimator-id-5\" class=\"sk-toggleable__label sk-toggleable__label-arrow\">LogisticRegression</label><div class=\"sk-toggleable__content\"><pre>LogisticRegression(C=5, random_state=42)</pre></div></div></div></div></div>"
      ],
      "text/plain": [
       "LogisticRegression(C=5, random_state=42)"
      ]
     },
     "execution_count": 62,
     "metadata": {},
     "output_type": "execute_result"
    }
   ],
   "source": [
    "lr_best"
   ]
  },
  {
   "cell_type": "code",
   "execution_count": 63,
   "metadata": {
    "execution": {
     "iopub.execute_input": "2024-06-07T07:51:00.434720Z",
     "iopub.status.busy": "2024-06-07T07:51:00.433722Z",
     "iopub.status.idle": "2024-06-07T07:52:09.712070Z",
     "shell.execute_reply": "2024-06-07T07:52:09.711108Z",
     "shell.execute_reply.started": "2024-06-07T07:51:00.434720Z"
    },
    "id": "yelWpvJIN62F"
   },
   "outputs": [],
   "source": [
    "# 평가용 데이터 feature >> vector\n",
    "\n",
    "test_tfidf = tfidf.transform(df_reviews['reviews'])"
   ]
  },
  {
   "cell_type": "code",
   "execution_count": 64,
   "metadata": {
    "execution": {
     "iopub.execute_input": "2024-06-07T07:52:09.734011Z",
     "iopub.status.busy": "2024-06-07T07:52:09.734011Z",
     "iopub.status.idle": "2024-06-07T07:52:09.743021Z",
     "shell.execute_reply": "2024-06-07T07:52:09.743021Z",
     "shell.execute_reply.started": "2024-06-07T07:52:09.734011Z"
    },
    "id": "vK6QYX32N66r"
   },
   "outputs": [],
   "source": [
    "y_pred = lr_best.predict(test_tfidf)"
   ]
  },
  {
   "cell_type": "code",
   "execution_count": 66,
   "metadata": {
    "colab": {
     "base_uri": "https://localhost:8080/"
    },
    "execution": {
     "iopub.execute_input": "2024-06-07T07:56:34.292266Z",
     "iopub.status.busy": "2024-06-07T07:56:34.291268Z",
     "iopub.status.idle": "2024-06-07T07:56:34.309225Z",
     "shell.execute_reply": "2024-06-07T07:56:34.308223Z",
     "shell.execute_reply.started": "2024-06-07T07:56:34.292266Z"
    },
    "id": "qQ0y0meTN6-h",
    "outputId": "cb9f7576-6572-4b11-8bbc-9728d1e99a8f"
   },
   "outputs": [
    {
     "name": "stdout",
     "output_type": "stream",
     "text": [
      "감성분석 정확도:  0.97\n"
     ]
    }
   ],
   "source": [
    "from sklearn.metrics import accuracy_score\n",
    "\n",
    "print('감성분석 정확도: ', round(accuracy_score(df_reviews['label'], y_pred), 2))\n",
    "# y_real(test_df['label']) , y_pred"
   ]
  },
  {
   "cell_type": "markdown",
   "metadata": {
    "id": "Y-C0XWhqQu7M"
   },
   "source": [
    "감성예측 프로그램"
   ]
  },
  {
   "cell_type": "markdown",
   "metadata": {
    "colab": {
     "base_uri": "https://localhost:8080/"
    },
    "execution": {
     "iopub.execute_input": "2024-06-07T07:59:24.690905Z",
     "iopub.status.busy": "2024-06-07T07:59:24.690905Z"
    },
    "id": "BMR2Tf86O5rd",
    "outputId": "b9f74ac8-8367-48de-9151-56975ed57997"
   },
   "source": [
    "##### st = input('감성 분석할 문장 입력 >> ')"
   ]
  },
  {
   "cell_type": "code",
   "execution_count": 74,
   "metadata": {
    "colab": {
     "base_uri": "https://localhost:8080/"
    },
    "execution": {
     "iopub.execute_input": "2024-06-07T07:57:45.267717Z",
     "iopub.status.busy": "2024-06-07T07:57:45.266719Z",
     "iopub.status.idle": "2024-06-07T07:57:45.287670Z",
     "shell.execute_reply": "2024-06-07T07:57:45.286665Z",
     "shell.execute_reply.started": "2024-06-07T07:57:45.267717Z"
    },
    "id": "GaYzNNY-O5vf",
    "outputId": "762a5ac7-343a-4a91-b827-2d48de68ecef"
   },
   "outputs": [
    {
     "name": "stdout",
     "output_type": "stream",
     "text": [
      "['너무', '좋은데', '조금만', '더', '개선되었으면', '좋겠어요']\n"
     ]
    }
   ],
   "source": [
    "# 입력 문장\n",
    "# 나는 너를 사랑해\n",
    "import re\n",
    "\n",
    "# 전처리 수행\n",
    "st = re.compile(r'[ㄱ-ㅣ가-힣]+').findall(st)\n",
    "print(st)\n"
   ]
  },
  {
   "cell_type": "code",
   "execution_count": 75,
   "metadata": {
    "colab": {
     "base_uri": "https://localhost:8080/"
    },
    "execution": {
     "iopub.execute_input": "2024-06-07T07:57:46.658210Z",
     "iopub.status.busy": "2024-06-07T07:57:46.658210Z",
     "iopub.status.idle": "2024-06-07T07:57:46.679154Z",
     "shell.execute_reply": "2024-06-07T07:57:46.678156Z",
     "shell.execute_reply.started": "2024-06-07T07:57:46.658210Z"
    },
    "id": "EAt8-66KRe84",
    "outputId": "d7575f38-74f9-4ffa-e3b6-32a15ce7f68f"
   },
   "outputs": [
    {
     "data": {
      "text/plain": [
       "['너무 좋은데 조금만 더 개선되었으면 좋겠어요']"
      ]
     },
     "execution_count": 75,
     "metadata": {},
     "output_type": "execute_result"
    }
   ],
   "source": [
    "st = [\" \".join(st)]\n",
    "st"
   ]
  },
  {
   "cell_type": "code",
   "execution_count": 76,
   "metadata": {
    "colab": {
     "base_uri": "https://localhost:8080/",
     "height": 35
    },
    "execution": {
     "iopub.execute_input": "2024-06-07T07:57:47.538591Z",
     "iopub.status.busy": "2024-06-07T07:57:47.538591Z",
     "iopub.status.idle": "2024-06-07T07:57:47.547567Z",
     "shell.execute_reply": "2024-06-07T07:57:47.546598Z",
     "shell.execute_reply.started": "2024-06-07T07:57:47.538591Z"
    },
    "id": "St68G3kEnyXH",
    "outputId": "21f226c7-4ca2-4e9e-e5b0-642316d97992"
   },
   "outputs": [
    {
     "data": {
      "text/plain": [
       "'너무 좋은데 조금만 더 개선되었으면 좋겠어요'"
      ]
     },
     "execution_count": 76,
     "metadata": {},
     "output_type": "execute_result"
    }
   ],
   "source": [
    "st[0]"
   ]
  },
  {
   "cell_type": "code",
   "execution_count": 77,
   "metadata": {
    "execution": {
     "iopub.execute_input": "2024-06-07T07:57:48.307070Z",
     "iopub.status.busy": "2024-06-07T07:57:48.306072Z",
     "iopub.status.idle": "2024-06-07T07:57:48.326019Z",
     "shell.execute_reply": "2024-06-07T07:57:48.325049Z",
     "shell.execute_reply.started": "2024-06-07T07:57:48.307070Z"
    },
    "id": "XiE8Ygz4O5ze"
   },
   "outputs": [],
   "source": [
    "# 피처 벡터화\n",
    "st_tfidf = tfidf.transform(st)\n",
    "st_predict = lr_best.predict(st_tfidf)"
   ]
  },
  {
   "cell_type": "code",
   "execution_count": 79,
   "metadata": {
    "colab": {
     "base_uri": "https://localhost:8080/"
    },
    "execution": {
     "iopub.execute_input": "2024-06-07T07:57:51.556269Z",
     "iopub.status.busy": "2024-06-07T07:57:51.555271Z",
     "iopub.status.idle": "2024-06-07T07:57:51.562252Z",
     "shell.execute_reply": "2024-06-07T07:57:51.562252Z",
     "shell.execute_reply.started": "2024-06-07T07:57:51.556269Z"
    },
    "id": "W2d975qqO53j",
    "outputId": "99efafb9-560d-487d-b046-74f7d3c08d2b"
   },
   "outputs": [
    {
     "name": "stdout",
     "output_type": "stream",
     "text": [
      "너무 좋은데 조금만 더 개선되었으면 좋겠어요 >> 긍정 감성\n"
     ]
    }
   ],
   "source": [
    "# 예측값 출력\n",
    "if (st_predict == 0):\n",
    "    print(st[0], '>> 부정 감성')\n",
    "else:\n",
    "    print(st[0], '>> 긍정 감성')"
   ]
  },
  {
   "cell_type": "code",
   "execution_count": null,
   "metadata": {
    "id": "gDuHkbIHC1T8"
   },
   "outputs": [],
   "source": [
    "# 참고\n",
    "#(api / crawling 해서 json 파일 가져왔을 때 원본 데이터에서 문장만 추출하고자 할 때)\n",
    "\n",
    "# df = {k: [{k:v}]}\n",
    "# df['k'] # key에 접근\n",
    "# # [{k:v}]\n",
    "# df['k'][0] # 리스트 안에 데이터 (dict() 형태)\n",
    "# {k:['몰라몰라']}\n",
    "# df['k'][0]\n",
    "# '몰라몰라'"
   ]
  },
  {
   "cell_type": "markdown",
   "metadata": {},
   "source": [
    "# 코로나 데이터 분석"
   ]
  },
  {
   "cell_type": "code",
   "execution_count": null,
   "metadata": {},
   "outputs": [],
   "source": [
    "# 데이터 불러오기\n",
    "\n",
    "import json\n",
    "file_name = 'datas/코로나_naver_news.json'\n",
    "\n",
    "with open(file_name, encoding='utf-8') as file:\n",
    "    data = json.load(file)\n",
    "\n",
    "print(data)"
   ]
  },
  {
   "cell_type": "code",
   "execution_count": null,
   "metadata": {},
   "outputs": [],
   "source": [
    "title = [ ]\n",
    "desc = [ ]\n",
    "\n",
    "for item in data:\n",
    "    title.append(item['title'])\n",
    "    desc.append(item['description'])"
   ]
  },
  {
   "cell_type": "code",
   "execution_count": null,
   "metadata": {},
   "outputs": [],
   "source": [
    "print(title)\n",
    "print()\n",
    "print(desc)"
   ]
  },
  {
   "cell_type": "code",
   "execution_count": null,
   "metadata": {},
   "outputs": [],
   "source": [
    "pd.DataFrame({'title':title, 'desc':desc})"
   ]
  },
  {
   "cell_type": "code",
   "execution_count": null,
   "metadata": {},
   "outputs": [],
   "source": [
    "df = pd.DataFrame({'title':title, 'desc':desc})"
   ]
  },
  {
   "cell_type": "code",
   "execution_count": null,
   "metadata": {},
   "outputs": [],
   "source": [
    "#  title 감성 분석\n",
    "title_tfidf = tfidf.transform(df['title'])\n",
    "# 분석할 데이터 feature vectorization (특성 벡터화) (문자>>숫자)\n",
    "title_predict = lr_best.predict(title_tfidf)\n",
    "df['title_label'] = title_predict\n",
    "# 감성 분석 결과값 >> title_label 열에 저장\n",
    "\n",
    "# desc 감성 분석\n",
    "desc_tfidf = tfidf.transform(df['desc'])\n",
    "# 분석할 데이터 feature vectorization (특성 벡터화) (문자>>숫자)\n",
    "desc_predict = lr_best.predict(desc_tfidf)\n",
    "df['desc_label'] = desc_predict\n",
    "# 감성 분석 결과값 >> title_label 열에 저장"
   ]
  },
  {
   "cell_type": "code",
   "execution_count": null,
   "metadata": {},
   "outputs": [],
   "source": []
  },
  {
   "cell_type": "code",
   "execution_count": null,
   "metadata": {},
   "outputs": [],
   "source": []
  }
 ],
 "metadata": {
  "accelerator": "GPU",
  "colab": {
   "gpuType": "T4",
   "provenance": []
  },
  "kernelspec": {
   "display_name": "mulcam",
   "language": "python",
   "name": "mulcam"
  },
  "language_info": {
   "codemirror_mode": {
    "name": "ipython",
    "version": 3
   },
   "file_extension": ".py",
   "mimetype": "text/x-python",
   "name": "python",
   "nbconvert_exporter": "python",
   "pygments_lexer": "ipython3",
   "version": "3.8.18"
  }
 },
 "nbformat": 4,
 "nbformat_minor": 4
}
